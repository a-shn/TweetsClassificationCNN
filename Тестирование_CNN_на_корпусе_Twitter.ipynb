{
  "nbformat": 4,
  "nbformat_minor": 0,
  "metadata": {
    "colab": {
      "name": "Тестирование CNN на корпусе Twitter.ipynb",
      "provenance": [],
      "mount_file_id": "1HggcJqGs1W63uG7O6PYCiFGp7QpwA5c9",
      "authorship_tag": "ABX9TyP9ThCbB14g9BmpdJ4lE0aX",
      "include_colab_link": true
    },
    "kernelspec": {
      "name": "python3",
      "display_name": "Python 3"
    }
  },
  "cells": [
    {
      "cell_type": "markdown",
      "metadata": {
        "id": "view-in-github",
        "colab_type": "text"
      },
      "source": [
        "<a href=\"https://colab.research.google.com/github/a-shn/TweetsClassificationCNN/blob/master/%D0%A2%D0%B5%D1%81%D1%82%D0%B8%D1%80%D0%BE%D0%B2%D0%B0%D0%BD%D0%B8%D0%B5_CNN_%D0%BD%D0%B0_%D0%BA%D0%BE%D1%80%D0%BF%D1%83%D1%81%D0%B5_Twitter.ipynb\" target=\"_parent\"><img src=\"https://colab.research.google.com/assets/colab-badge.svg\" alt=\"Open In Colab\"/></a>"
      ]
    },
    {
      "cell_type": "markdown",
      "metadata": {
        "id": "KMyshtehDqc2",
        "colab_type": "text"
      },
      "source": [
        "# **Результаты в виде таблицы:**"
      ]
    },
    {
      "cell_type": "markdown",
      "metadata": {
        "id": "b_3FjymrnfKY",
        "colab_type": "text"
      },
      "source": [
        "Train corpus | Test corpus | Precision | Recall | F-measure\n",
        "--- | --- | --- | --- | ---\n",
        "train | validation | 0.64705 | 0.24812 | 0.35869\n",
        "train + validation | test | 0.51063 | 0.28915 | 0.36923\n",
        "train + validation + test | test_final | 0.74698 | 0.31313 | 0.44128"
      ]
    },
    {
      "cell_type": "markdown",
      "metadata": {
        "id": "lvCOZwilFAKl",
        "colab_type": "text"
      },
      "source": [
        "# **Считывание и разделение данных, инициализация TextCNN и импортирование fasttext-модели**"
      ]
    },
    {
      "cell_type": "code",
      "metadata": {
        "id": "YSRK13jNKGM5",
        "colab_type": "code",
        "colab": {}
      },
      "source": [
        "import os\n",
        "import pandas as pd\n",
        "from sklearn.model_selection import train_test_split"
      ],
      "execution_count": 46,
      "outputs": []
    },
    {
      "cell_type": "code",
      "metadata": {
        "id": "uXSJuA-p_HWC",
        "colab_type": "code",
        "colab": {}
      },
      "source": [
        "KEEP_COLUMNS = [\"class\", \"tweet\"]\n",
        "\n",
        "training_raw_path = '/content/drive/My Drive/NLP/RuADReCT_raw/task2_ru_training_raw.tsv'\n",
        "valiadtion_raw_path = '/content/drive/My Drive/NLP/RuADReCT_raw/task2_ru_validation_raw.tsv'\n",
        "test_raw_path = '/content/drive/My Drive/NLP/RuADReCT_raw/task2_ru_test_raw.tsv'\n",
        "test_final_raw_path = '/content/drive/My Drive/NLP/RuADReCT_raw/task2_ru_test_final_raw.tsv'\n",
        "fasttext_model_path = '/content/drive/My Drive/NLP/rudrec_fasttext/rudrec_fasttext_model.bin'"
      ],
      "execution_count": 47,
      "outputs": []
    },
    {
      "cell_type": "code",
      "metadata": {
        "id": "UCJRaq_BR41-",
        "colab_type": "code",
        "colab": {}
      },
      "source": [
        "# В зависимости от задания, откомментировать нужную часть\n",
        "\n",
        "# 1 Задание:\n",
        "# train_df = pd.read_csv(training_raw_path, sep=\"\\t\", encoding=\"utf-8\")\n",
        "# test_df = pd.read_csv(valiadtion_raw_path, sep=\"\\t\", encoding=\"utf-8\")\n",
        "\n",
        "\n",
        "# 2 Задание:\n",
        "# train_df = pd.concat([pd.read_csv(training_raw_path, sep=\"\\t\", encoding=\"utf-8\"), \n",
        "#                       pd.read_csv(valiadtion_raw_path, sep=\"\\t\", encoding=\"utf-8\")])\n",
        "# test_df = pd.read_csv(test_raw_path, sep=\"\\t\", encoding=\"utf-8\")\n",
        "\n",
        "# 3 Задание:\n",
        "train_df = pd.concat([pd.read_csv(training_raw_path, sep=\"\\t\", encoding=\"utf-8\"), \n",
        "                      pd.read_csv(valiadtion_raw_path, sep=\"\\t\", encoding=\"utf-8\"),\n",
        "                      pd.read_csv(test_raw_path, sep=\"\\t\", encoding=\"utf-8\")])\n",
        "test_df = pd.read_csv(test_final_raw_path, sep=\"\\t\", encoding=\"utf-8\")\n",
        "\n",
        "train_df = train_df[KEEP_COLUMNS] \n",
        "train_df = train_df[(train_df['class'] == 0) | (train_df['class'] == 1)] # Удаляем невалидные строки (класс NaN, например)\n",
        "test_df = test_df[KEEP_COLUMNS]\n",
        "test_df = test_df[(test_df['class'] == 0) | (test_df['class'] == 1)]"
      ],
      "execution_count": 48,
      "outputs": []
    },
    {
      "cell_type": "code",
      "metadata": {
        "id": "9FkFCzId_r6x",
        "colab_type": "code",
        "colab": {}
      },
      "source": [
        "train_df, dev_df, _, _ = \\\n",
        "    train_test_split(train_df, train_df, test_size=0.1, random_state=42)\n",
        "train_positive_class_df = train_df[train_df['class'] == 1]\n",
        "train_negative_class_df = train_df[train_df['class'] == 0]\n",
        "num_min_examples = min(train_positive_class_df.shape[0], train_negative_class_df.shape[0])\n",
        "train_positive_class_df = train_positive_class_df.sample(num_min_examples)\n",
        "train_negative_class_df = train_negative_class_df.sample(num_min_examples)\n",
        "\n",
        "class_normalized_train_df = pd.concat([train_positive_class_df, train_negative_class_df]).sample(frac=1)"
      ],
      "execution_count": 49,
      "outputs": []
    },
    {
      "cell_type": "code",
      "metadata": {
        "id": "RTJKQq2hMPtV",
        "colab_type": "code",
        "colab": {}
      },
      "source": [
        "!pip install tensorflow\n",
        "!pip install fasttext"
      ],
      "execution_count": null,
      "outputs": []
    },
    {
      "cell_type": "code",
      "metadata": {
        "id": "8YEg5S1tMV4I",
        "colab_type": "code",
        "colab": {}
      },
      "source": [
        "from tensorflow.keras import Model\n",
        "from tensorflow.keras.layers import Embedding, Dense, Conv1D, GlobalMaxPooling1D, Concatenate\n",
        "\n",
        "class TextCNN(Model):\n",
        "    def __init__(self,\n",
        "                 maxlen,\n",
        "                 max_features,\n",
        "                 embedding_dims,\n",
        "                 kernel_sizes=[3, 4, 5],\n",
        "                 class_num=1,\n",
        "                 last_activation='sigmoid',\n",
        "                 embedding_weights=None):\n",
        "        super(TextCNN, self).__init__()\n",
        "        self.maxlen = maxlen\n",
        "        self.max_features = max_features\n",
        "        self.embedding_dims = embedding_dims\n",
        "        self.kernel_sizes = kernel_sizes\n",
        "        self.class_num = class_num\n",
        "        self.last_activation = last_activation\n",
        "        self.embedding = Embedding(self.max_features, self.embedding_dims,\n",
        "                                   input_length=self.maxlen, weights=[embedding_weights], )\n",
        "        self.convs = []\n",
        "        self.max_poolings = []\n",
        "        for kernel_size in self.kernel_sizes:\n",
        "            self.convs.append(Conv1D(128, kernel_size, activation='relu'))\n",
        "            self.max_poolings.append(GlobalMaxPooling1D())\n",
        "        self.classifier = Dense(self.class_num, activation=self.last_activation)\n",
        "\n",
        "    def call(self, inputs):\n",
        "        if len(inputs.get_shape()) != 2:\n",
        "            raise ValueError('The rank of inputs of TextCNN must be 2, but now is %d' % len(inputs.get_shape()))\n",
        "        if inputs.get_shape()[1] != self.maxlen:\n",
        "            raise ValueError(\n",
        "                'The maxlen of inputs of TextCNN must be %d, but now is %d' % (self.maxlen, inputs.get_shape()[1]))\n",
        "        # Embedding part can try multichannel as same as origin paper\n",
        "        embedding = self.embedding(inputs)\n",
        "        convs = []\n",
        "        for i in range(len(self.kernel_sizes)):\n",
        "            c = self.convs[i](embedding)\n",
        "            c = self.max_poolings[i](c)\n",
        "            convs.append(c)\n",
        "        x = Concatenate()(convs)\n",
        "        output = self.classifier(x)\n",
        "        return output"
      ],
      "execution_count": 51,
      "outputs": []
    },
    {
      "cell_type": "code",
      "metadata": {
        "id": "4F9ImOWQNG1u",
        "colab_type": "code",
        "colab": {}
      },
      "source": [
        "import fasttext\n",
        "import numpy as np\n",
        "import pandas as pd\n",
        "from keras_preprocessing import sequence\n",
        "from keras_preprocessing.text import Tokenizer\n",
        "from sklearn.metrics import precision_score, recall_score, f1_score, classification_report\n",
        "from tensorflow.keras.callbacks import EarlyStopping"
      ],
      "execution_count": 52,
      "outputs": []
    },
    {
      "cell_type": "code",
      "metadata": {
        "id": "diLag1ylQicz",
        "colab_type": "code",
        "colab": {}
      },
      "source": [
        "BATCH_SIZE = 128\n",
        "EMBEDDINGS_DIM = 200\n",
        "CLASSIFIER_TRAIN_EPOCHS = 10\n",
        "CLASSIFICATION_THRESHOLD = 0.5"
      ],
      "execution_count": 53,
      "outputs": []
    },
    {
      "cell_type": "code",
      "metadata": {
        "id": "hhcvRtpMQxVA",
        "colab_type": "code",
        "colab": {
          "base_uri": "https://localhost:8080/",
          "height": 35
        },
        "outputId": "db7115b3-07e7-405c-b254-6244c93352f1"
      },
      "source": [
        "# Loading pretrained fastext model\n",
        "fasttext_model = fasttext.load_model(fasttext_model_path)\n",
        "\n",
        "# Extracting tweet texts\n",
        "train_tweet_texts = train_df.tweet.values\n",
        "test_tweet_texts = test_df.tweet.values\n",
        "dev_tweet_texts = dev_df.tweet.values\n",
        "\n",
        "# Extracting tweet labels\n",
        "train_labels = train_df['class'].values\n",
        "test_labels = test_df['class'].values\n",
        "dev_labels = dev_df['class'].values"
      ],
      "execution_count": 54,
      "outputs": [
        {
          "output_type": "stream",
          "text": [
            "Warning : `load_model` does not return WordVectorModel or SupervisedModel any more, but a `FastText` object which is very similar.\n"
          ],
          "name": "stderr"
        }
      ]
    },
    {
      "cell_type": "markdown",
      "metadata": {
        "id": "z8c5lvxoEkCR",
        "colab_type": "text"
      },
      "source": [
        "# **Пре-процессинг:**"
      ]
    },
    {
      "cell_type": "code",
      "metadata": {
        "id": "AhDUe5W7MDoN",
        "colab_type": "code",
        "colab": {}
      },
      "source": [
        "import re\n",
        "def list_replace(search, replacement, text):\n",
        "    \"\"\"\n",
        "    Replaces all symbols of text which are present\n",
        "    in the search string with the replacement string.\n",
        "    \"\"\"\n",
        "    search = [el for el in search if el in text]\n",
        "    for c in search:\n",
        "        text = text.replace(c, replacement)\n",
        "    return text\n",
        "\n",
        "def clean_text(text):\n",
        "\n",
        "    text = list_replace \\\n",
        "        ('\\u00AB\\u00BB\\u2039\\u203A\\u201E\\u201A\\u201C\\u201F\\u2018\\u201B\\u201D\\u2019', '\\u0022', text)\n",
        "\n",
        "    text = list_replace \\\n",
        "        ('\\u2012\\u2013\\u2014\\u2015\\u203E\\u0305\\u00AF', '\\u2003\\u002D\\u002D\\u2003', text)\n",
        "\n",
        "    text = list_replace('\\u2010\\u2011', '\\u002D', text)\n",
        "\n",
        "    text = list_replace \\\n",
        "            (\n",
        "            '\\u2000\\u2001\\u2002\\u2004\\u2005\\u2006\\u2007\\u2008\\u2009\\u200A\\u200B\\u202F\\u205F\\u2060\\u3000',\n",
        "            '\\u2002', text)\n",
        "\n",
        "    text = re.sub('\\u2003\\u2003', '\\u2003', text)\n",
        "    text = re.sub('\\t\\t', '\\t', text)\n",
        "\n",
        "    text = list_replace \\\n",
        "            (\n",
        "            '\\u02CC\\u0307\\u0323\\u2022\\u2023\\u2043\\u204C\\u204D\\u2219\\u25E6\\u00B7\\u00D7\\u22C5\\u2219\\u2062',\n",
        "            '.', text)\n",
        "\n",
        "    text = list_replace('\\u2217', '\\u002A', text)\n",
        "\n",
        "    text = list_replace('…', '...', text)\n",
        "\n",
        "    text = list_replace('\\u00C4', 'A', text)\n",
        "    text = list_replace('\\u00E4', 'a', text)\n",
        "    text = list_replace('\\u00CB', 'E', text)\n",
        "    text = list_replace('\\u00EB', 'e', text)\n",
        "    text = list_replace('\\u1E26', 'H', text)\n",
        "    text = list_replace('\\u1E27', 'h', text)\n",
        "    text = list_replace('\\u00CF', 'I', text)\n",
        "    text = list_replace('\\u00EF', 'i', text)\n",
        "    text = list_replace('\\u00D6', 'O', text)\n",
        "    text = list_replace('\\u00F6', 'o', text)\n",
        "    text = list_replace('\\u00DC', 'U', text)\n",
        "    text = list_replace('\\u00FC', 'u', text)\n",
        "    text = list_replace('\\u0178', 'Y', text)\n",
        "    text = list_replace('\\u00FF', 'y', text)\n",
        "    text = list_replace('\\u00DF', 's', text)\n",
        "    text = list_replace('\\u1E9E', 'S', text)\n",
        "    # Removing punctuation\n",
        "    text = list_replace(',.[]{}()=+-−*&^%$#@!~;:§/\\|\\?\"\\n', ' ', text)\n",
        "    # Replacing all numbers with masks\n",
        "    text = list_replace('0123456789', 'x', text)\n",
        "\n",
        "    currencies = list \\\n",
        "            (\n",
        "            '\\u20BD\\u0024\\u00A3\\u20A4\\u20AC\\u20AA\\u2133\\u20BE\\u00A2\\u058F\\u0BF9\\u20BC\\u20A1\\u20A0\\u20B4\\u20A7\\u20B0\\u20BF\\u20A3\\u060B\\u0E3F\\u20A9\\u20B4\\u20B2\\u0192\\u20AB\\u00A5\\u20AD\\u20A1\\u20BA\\u20A6\\u20B1\\uFDFC\\u17DB\\u20B9\\u20A8\\u20B5\\u09F3\\u20B8\\u20AE\\u0192'\n",
        "        )\n",
        "\n",
        "    alphabet = list \\\n",
        "            (\n",
        "            '\\t\\r абвгдеёзжийклмнопрстуфхцчшщьыъэюяАБВГДЕЁЗЖИЙКЛМНОПРСТУФХЦЧШЩЬЫЪЭЮЯabcdefghijklmnopqrstuvwxyzABCDEFGHIJKLMNOPQRSTUVWXYZ ')\n",
        "\n",
        "    allowed = set(currencies + alphabet)\n",
        "\n",
        "    cleaned_text = [sym for sym in text if sym in allowed]\n",
        "    cleaned_text = ''.join(cleaned_text)\n",
        "\n",
        "    return cleaned_text"
      ],
      "execution_count": 55,
      "outputs": []
    },
    {
      "cell_type": "code",
      "metadata": {
        "id": "eSKRJDV7N74T",
        "colab_type": "code",
        "colab": {}
      },
      "source": [
        "maxlen = 0\n",
        "# Preprocessing training tweets\n",
        "cleaned_train_texts = []\n",
        "for tweet_text in train_tweet_texts:\n",
        "    cleaned_text = clean_text(tweet_text).lower()\n",
        "    split_cleaned_text = cleaned_text.split()\n",
        "    # Estimating max length of all training tweets in tokens\n",
        "    if len(split_cleaned_text) > maxlen:\n",
        "        maxlen = len(split_cleaned_text)\n",
        "    cleaned_train_texts.append(\" \".join(split_cleaned_text))\n",
        "    \n",
        "# Preprocessing test tweets\n",
        "cleaned_test_texts = []\n",
        "for tweet_text in test_tweet_texts:\n",
        "    cleaned_text = clean_text(tweet_text)\n",
        "    cleaned_test_texts.append(\" \".join(cleaned_text.split()))\n",
        "    \n",
        "# Preprocessing validation tweets\n",
        "cleaned_dev_texts = []\n",
        "for tweet_text in dev_tweet_texts:\n",
        "    cleaned_text = clean_text(tweet_text)\n",
        "    cleaned_dev_texts.append(\" \".join(cleaned_text.split()))"
      ],
      "execution_count": 56,
      "outputs": []
    },
    {
      "cell_type": "markdown",
      "metadata": {
        "id": "fTY_T9xDGsg7",
        "colab_type": "text"
      },
      "source": [
        "# **Эмбеддинг:**"
      ]
    },
    {
      "cell_type": "code",
      "metadata": {
        "id": "I1Zpi8L-OPDk",
        "colab_type": "code",
        "colab": {}
      },
      "source": [
        "tokenizer = Tokenizer(lower=True, char_level=False)\n",
        "tokenizer.fit_on_texts(cleaned_train_texts + cleaned_test_texts + cleaned_dev_texts)\n",
        "# Converting texts to lists of ids\n",
        "word_seq_train = tokenizer.texts_to_sequences(cleaned_train_texts)\n",
        "word_seq_test = tokenizer.texts_to_sequences(cleaned_test_texts)\n",
        "word_seq_dev = tokenizer.texts_to_sequences(cleaned_dev_texts)\n",
        "word_index = tokenizer.word_index\n",
        "\n",
        "# Padding too short tweet texts with '0's\n",
        "word_seq_train = sequence.pad_sequences(word_seq_train, maxlen=maxlen)\n",
        "word_seq_test = sequence.pad_sequences(word_seq_test, maxlen=maxlen)\n",
        "word_seq_dev = sequence.pad_sequences(word_seq_dev, maxlen=maxlen)\n",
        "\n",
        "dictionary_size = len(word_index.keys())\n",
        "# 0-th token of embedding matrix is a padding token\n",
        "embedding_matrix = np.zeros((dictionary_size + 1, EMBEDDINGS_DIM))\\\n",
        "\n",
        "for word, i in word_index.items():\n",
        "    embedding_vector = fasttext_model.get_word_vector((word))\n",
        "    if (embedding_vector is not None) and len(embedding_vector) > 0:\n",
        "        # words not found in embedding index will be all-zeros.\n",
        "        embedding_matrix[i] = embedding_vector"
      ],
      "execution_count": 57,
      "outputs": []
    },
    {
      "cell_type": "markdown",
      "metadata": {
        "id": "LAU69TK-GXQx",
        "colab_type": "text"
      },
      "source": [
        "# **Компиляция модели:**"
      ]
    },
    {
      "cell_type": "code",
      "metadata": {
        "id": "uvh_42byPBDP",
        "colab_type": "code",
        "colab": {}
      },
      "source": [
        "model = TextCNN(maxlen, dictionary_size + 1, EMBEDDINGS_DIM, embedding_weights=embedding_matrix)\n",
        "model.compile('adam', 'binary_crossentropy', metrics=['accuracy'], )\n",
        "early_stopping = EarlyStopping(monitor='val_accuracy', patience=3 , mode='max', restore_best_weights=True)"
      ],
      "execution_count": 58,
      "outputs": []
    },
    {
      "cell_type": "markdown",
      "metadata": {
        "id": "eI8dUcTuGHv6",
        "colab_type": "text"
      },
      "source": [
        "# **Обучение модели:**"
      ]
    },
    {
      "cell_type": "code",
      "metadata": {
        "id": "eCxmIJa3PV-m",
        "colab_type": "code",
        "colab": {
          "base_uri": "https://localhost:8080/",
          "height": 217
        },
        "outputId": "65811089-3387-4b7c-9224-99718b77fb89"
      },
      "source": [
        "model.fit(word_seq_train, train_labels,\n",
        "              batch_size=BATCH_SIZE,\n",
        "              epochs=CLASSIFIER_TRAIN_EPOCHS,\n",
        "              callbacks=[early_stopping, ],\n",
        "              validation_data=(word_seq_dev, dev_labels))"
      ],
      "execution_count": 59,
      "outputs": [
        {
          "output_type": "stream",
          "text": [
            "Epoch 1/10\n",
            "67/67 [==============================] - 31s 466ms/step - loss: 0.2493 - accuracy: 0.9146 - val_loss: 0.2292 - val_accuracy: 0.9212\n",
            "Epoch 2/10\n",
            "67/67 [==============================] - 31s 463ms/step - loss: 0.1418 - accuracy: 0.9436 - val_loss: 0.2020 - val_accuracy: 0.9265\n",
            "Epoch 3/10\n",
            "67/67 [==============================] - 31s 464ms/step - loss: 0.0745 - accuracy: 0.9782 - val_loss: 0.2145 - val_accuracy: 0.9254\n",
            "Epoch 4/10\n",
            "67/67 [==============================] - 31s 464ms/step - loss: 0.0327 - accuracy: 0.9960 - val_loss: 0.2321 - val_accuracy: 0.9244\n",
            "Epoch 5/10\n",
            "67/67 [==============================] - 31s 464ms/step - loss: 0.0146 - accuracy: 0.9989 - val_loss: 0.2426 - val_accuracy: 0.9181\n"
          ],
          "name": "stdout"
        },
        {
          "output_type": "execute_result",
          "data": {
            "text/plain": [
              "<tensorflow.python.keras.callbacks.History at 0x7f08e6f1b358>"
            ]
          },
          "metadata": {
            "tags": []
          },
          "execution_count": 59
        }
      ]
    },
    {
      "cell_type": "markdown",
      "metadata": {
        "id": "KmZYpcSxG_0p",
        "colab_type": "text"
      },
      "source": [
        "# **Вывод результатов:**"
      ]
    },
    {
      "cell_type": "code",
      "metadata": {
        "id": "8M1CDE0yZFTk",
        "colab_type": "code",
        "colab": {}
      },
      "source": [
        "predicted_test_prob = model.predict(word_seq_test)\n",
        "predicted_test_labels = []\n",
        "predicted_dev_prob = model.predict(word_seq_dev)\n",
        "predicted_dev_labels = []\n",
        "\n",
        "for subarray in predicted_test_prob:\n",
        "    label = 1 if subarray[0] >= CLASSIFICATION_THRESHOLD else 0\n",
        "    predicted_test_labels.append(label)\n",
        "\n",
        "for subarray in predicted_dev_prob:\n",
        "    label = 1 if subarray[0] >= CLASSIFICATION_THRESHOLD else 0\n",
        "    predicted_dev_labels.append(label)"
      ],
      "execution_count": 60,
      "outputs": []
    },
    {
      "cell_type": "code",
      "metadata": {
        "id": "u7I169ljZc_N",
        "colab_type": "code",
        "colab": {
          "base_uri": "https://localhost:8080/",
          "height": 181
        },
        "outputId": "df8f742f-b648-413d-bee5-30169828e08a"
      },
      "source": [
        "dev_precision = precision_score(dev_labels, predicted_dev_labels, )\n",
        "dev_recall = recall_score(dev_labels, predicted_dev_labels, )\n",
        "dev_f_measure = f1_score(dev_labels, predicted_dev_labels, )\n",
        "print(f\"Dev:\\nPrecision: {dev_precision}\\n\"\n",
        "        f\"Recall: {dev_recall}\\nF-measure: {dev_f_measure}\")\n",
        "\n",
        "test_precision = precision_score(test_labels, predicted_test_labels, )\n",
        "test_recall = recall_score(test_labels, predicted_test_labels, )\n",
        "test_f_measure = f1_score(test_labels, predicted_test_labels, )\n",
        "print(f\"Test:\\nPrecision: {test_precision}\\n\"\n",
        "        f\"Recall: {test_recall}\\nF-measure: {test_f_measure}\\n\")\n"
      ],
      "execution_count": 61,
      "outputs": [
        {
          "output_type": "stream",
          "text": [
            "Dev:\n",
            "Precision: 0.6764705882352942\n",
            "Recall: 0.2804878048780488\n",
            "F-measure: 0.3965517241379311\n",
            "Test:\n",
            "Precision: 0.7469879518072289\n",
            "Recall: 0.31313131313131315\n",
            "F-measure: 0.4412811387900356\n",
            "\n"
          ],
          "name": "stdout"
        }
      ]
    },
    {
      "cell_type": "code",
      "metadata": {
        "id": "A3hCr3BoZx0-",
        "colab_type": "code",
        "colab": {
          "base_uri": "https://localhost:8080/",
          "height": 181
        },
        "outputId": "4e93193b-7eae-4e91-deb1-ec12fdf4f7b6"
      },
      "source": [
        "print(classification_report(test_labels, predicted_test_labels, digits=5))"
      ],
      "execution_count": 62,
      "outputs": [
        {
          "output_type": "stream",
          "text": [
            "              precision    recall  f1-score   support\n",
            "\n",
            "           0    0.90429   0.98392   0.94243      1306\n",
            "           1    0.74699   0.31313   0.44128       198\n",
            "\n",
            "    accuracy                        0.89561      1504\n",
            "   macro avg    0.82564   0.64853   0.69185      1504\n",
            "weighted avg    0.88358   0.89561   0.87645      1504\n",
            "\n"
          ],
          "name": "stdout"
        }
      ]
    }
  ]
}