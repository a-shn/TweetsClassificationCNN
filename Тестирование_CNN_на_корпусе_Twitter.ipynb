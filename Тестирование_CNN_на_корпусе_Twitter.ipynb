{
  "nbformat": 4,
  "nbformat_minor": 0,
  "metadata": {
    "colab": {
      "name": "Тестирование CNN на корпусе Twitter.ipynb",
      "provenance": [],
      "toc_visible": true,
      "mount_file_id": "1HggcJqGs1W63uG7O6PYCiFGp7QpwA5c9",
      "authorship_tag": "ABX9TyPfpTHPdDYUi6EVRPPk+oyP",
      "include_colab_link": true
    },
    "kernelspec": {
      "name": "python3",
      "display_name": "Python 3"
    }
  },
  "cells": [
    {
      "cell_type": "markdown",
      "metadata": {
        "id": "view-in-github",
        "colab_type": "text"
      },
      "source": [
        "<a href=\"https://colab.research.google.com/github/a-shn/TweetsClassificationCNN/blob/master/%D0%A2%D0%B5%D1%81%D1%82%D0%B8%D1%80%D0%BE%D0%B2%D0%B0%D0%BD%D0%B8%D0%B5_CNN_%D0%BD%D0%B0_%D0%BA%D0%BE%D1%80%D0%BF%D1%83%D1%81%D0%B5_Twitter.ipynb\" target=\"_parent\"><img src=\"https://colab.research.google.com/assets/colab-badge.svg\" alt=\"Open In Colab\"/></a>"
      ]
    },
    {
      "cell_type": "markdown",
      "metadata": {
        "id": "KMyshtehDqc2",
        "colab_type": "text"
      },
      "source": [
        "# **Результаты в виде таблицы:**"
      ]
    },
    {
      "cell_type": "markdown",
      "metadata": {
        "id": "PQ0cxQOhKYiw",
        "colab_type": "text"
      },
      "source": [
        "С нормализацией, без лемматизации:"
      ]
    },
    {
      "cell_type": "markdown",
      "metadata": {
        "id": "b_3FjymrnfKY",
        "colab_type": "text"
      },
      "source": [
        "Train corpus | Test corpus | Precision | Recall | F-measure\n",
        "--- | --- | --- | --- | ---\n",
        "train | validation | 0.27559 | 0.78947 | 0.40856\n",
        "train + validation | test | 0.29630 | 0.67470 | 0.41176\n",
        "train + validation + test | test_final | 0.36881 | 0.75253 | 0.49502"
      ]
    },
    {
      "cell_type": "markdown",
      "metadata": {
        "id": "Sile3uzWKiOv",
        "colab_type": "text"
      },
      "source": [
        "Без нормализации, без лемматизации:"
      ]
    },
    {
      "cell_type": "markdown",
      "metadata": {
        "id": "FJX3ZswmKhY8",
        "colab_type": "text"
      },
      "source": [
        "Train corpus | Test corpus | Precision | Recall | F-measure\n",
        "--- | --- | --- | --- | ---\n",
        "train | validation | 0.64705 | 0.24812 | 0.35869\n",
        "train + validation | test | 0.51063 | 0.28915 | 0.36923\n",
        "train + validation + test | test_final | 0.74698 | 0.31313 | 0.44128"
      ]
    },
    {
      "cell_type": "markdown",
      "metadata": {
        "id": "ZZOKsx1kK4BG",
        "colab_type": "text"
      },
      "source": [
        "Без нормализации, с лемматизацией:"
      ]
    },
    {
      "cell_type": "markdown",
      "metadata": {
        "id": "LdXQvsymK3g7",
        "colab_type": "text"
      },
      "source": [
        "Train corpus | Test corpus | Precision | Recall | F-measure\n",
        "--- | --- | --- | --- | ---\n",
        "train | validation | 0.60000 | 0.27068 | 0.37306\n",
        "train + validation | test | 0.54000 | 0.16265 | 0.25000\n",
        "train + validation + test | test_final | 0.72340 | 0.34343 | 0.46575"
      ]
    },
    {
      "cell_type": "markdown",
      "metadata": {
        "id": "lvCOZwilFAKl",
        "colab_type": "text"
      },
      "source": [
        "# **Считывание и разделение данных, инициализация TextCNN и импортирование fasttext-модели**"
      ]
    },
    {
      "cell_type": "code",
      "metadata": {
        "id": "YSRK13jNKGM5",
        "colab_type": "code",
        "colab": {}
      },
      "source": [
        "import os\n",
        "import pandas as pd\n",
        "from sklearn.model_selection import train_test_split"
      ],
      "execution_count": 166,
      "outputs": []
    },
    {
      "cell_type": "code",
      "metadata": {
        "id": "uXSJuA-p_HWC",
        "colab_type": "code",
        "colab": {}
      },
      "source": [
        "KEEP_COLUMNS = [\"class\", \"tweet\"]\n",
        "\n",
        "training_raw_path = '/content/drive/My Drive/NLP/RuADReCT_raw/task2_ru_training_raw.tsv'\n",
        "valiadtion_raw_path = '/content/drive/My Drive/NLP/RuADReCT_raw/task2_ru_validation_raw.tsv'\n",
        "test_raw_path = '/content/drive/My Drive/NLP/RuADReCT_raw/task2_ru_test_raw.tsv'\n",
        "test_final_raw_path = '/content/drive/My Drive/NLP/RuADReCT_raw/task2_ru_test_final_raw.tsv'\n",
        "fasttext_model_path = '/content/drive/My Drive/NLP/rudrec_fasttext/rudrec_fasttext_model.bin'"
      ],
      "execution_count": 167,
      "outputs": []
    },
    {
      "cell_type": "code",
      "metadata": {
        "id": "UCJRaq_BR41-",
        "colab_type": "code",
        "colab": {}
      },
      "source": [
        "# В зависимости от задания, откомментировать нужную часть\n",
        "\n",
        "# 1 Задание:\n",
        "# train_df = pd.read_csv(training_raw_path, sep=\"\\t\", encoding=\"utf-8\")\n",
        "# test_df = pd.read_csv(valiadtion_raw_path, sep=\"\\t\", encoding=\"utf-8\")\n",
        "\n",
        "\n",
        "# 2 Задание:\n",
        "# train_df = pd.concat([pd.read_csv(training_raw_path, sep=\"\\t\", encoding=\"utf-8\"), \n",
        "#                       pd.read_csv(valiadtion_raw_path, sep=\"\\t\", encoding=\"utf-8\")])\n",
        "# test_df = pd.read_csv(test_raw_path, sep=\"\\t\", encoding=\"utf-8\")\n",
        "\n",
        "# 3 Задание:\n",
        "train_df = pd.concat([pd.read_csv(training_raw_path, sep=\"\\t\", encoding=\"utf-8\"), \n",
        "                      pd.read_csv(valiadtion_raw_path, sep=\"\\t\", encoding=\"utf-8\"),\n",
        "                      pd.read_csv(test_raw_path, sep=\"\\t\", encoding=\"utf-8\")])\n",
        "test_df = pd.read_csv(test_final_raw_path, sep=\"\\t\", encoding=\"utf-8\")\n",
        "\n",
        "train_df = train_df[KEEP_COLUMNS] \n",
        "train_df = train_df[(train_df['class'] == 0) | (train_df['class'] == 1)] # Удаляем невалидные строки (класс NaN, например)\n",
        "test_df = test_df[KEEP_COLUMNS]\n",
        "test_df = test_df[(test_df['class'] == 0) | (test_df['class'] == 1)]\n",
        "\n",
        "#P.S. в task2_ru_test_final_raw.tsv название колонки с твитами называется \"text\", а не \"tweet\", \n",
        "#как в других, поэтому перед запуском 3-его задания, нужно ее переименовать в \"tweet\""
      ],
      "execution_count": 168,
      "outputs": []
    },
    {
      "cell_type": "code",
      "metadata": {
        "id": "9FkFCzId_r6x",
        "colab_type": "code",
        "colab": {}
      },
      "source": [
        "train_df, dev_df, _, _ = \\\n",
        "    train_test_split(train_df, train_df, test_size=0.1, random_state=42)\n",
        "train_positive_class_df = train_df[train_df['class'] == 1]\n",
        "train_negative_class_df = train_df[train_df['class'] == 0]\n",
        "num_min_examples = min(train_positive_class_df.shape[0], train_negative_class_df.shape[0])\n",
        "train_positive_class_df = train_positive_class_df.sample(num_min_examples)\n",
        "train_negative_class_df = train_negative_class_df.sample(num_min_examples)\n",
        "\n",
        "class_normalized_train_df = pd.concat([train_positive_class_df, train_negative_class_df]).sample(frac=1)\n",
        "train_df = class_normalized_train_df # для обучения без нормирования - закомментировать"
      ],
      "execution_count": 169,
      "outputs": []
    },
    {
      "cell_type": "code",
      "metadata": {
        "id": "RTJKQq2hMPtV",
        "colab_type": "code",
        "colab": {}
      },
      "source": [
        "!pip install tensorflow\n",
        "!pip install fasttext"
      ],
      "execution_count": null,
      "outputs": []
    },
    {
      "cell_type": "code",
      "metadata": {
        "id": "8YEg5S1tMV4I",
        "colab_type": "code",
        "colab": {}
      },
      "source": [
        "from tensorflow.keras import Model\n",
        "from tensorflow.keras.layers import Embedding, Dense, Conv1D, GlobalMaxPooling1D, Concatenate\n",
        "\n",
        "class TextCNN(Model):\n",
        "    def __init__(self,\n",
        "                 maxlen,\n",
        "                 max_features,\n",
        "                 embedding_dims,\n",
        "                 kernel_sizes=[3, 4, 5],\n",
        "                 class_num=1,\n",
        "                 last_activation='sigmoid',\n",
        "                 embedding_weights=None):\n",
        "        super(TextCNN, self).__init__()\n",
        "        self.maxlen = maxlen\n",
        "        self.max_features = max_features\n",
        "        self.embedding_dims = embedding_dims\n",
        "        self.kernel_sizes = kernel_sizes\n",
        "        self.class_num = class_num\n",
        "        self.last_activation = last_activation\n",
        "        self.embedding = Embedding(self.max_features, self.embedding_dims,\n",
        "                                   input_length=self.maxlen, weights=[embedding_weights], )\n",
        "        self.convs = []\n",
        "        self.max_poolings = []\n",
        "        for kernel_size in self.kernel_sizes:\n",
        "            self.convs.append(Conv1D(128, kernel_size, activation='relu'))\n",
        "            self.max_poolings.append(GlobalMaxPooling1D())\n",
        "        self.classifier = Dense(self.class_num, activation=self.last_activation)\n",
        "\n",
        "    def call(self, inputs):\n",
        "        if len(inputs.get_shape()) != 2:\n",
        "            raise ValueError('The rank of inputs of TextCNN must be 2, but now is %d' % len(inputs.get_shape()))\n",
        "        if inputs.get_shape()[1] != self.maxlen:\n",
        "            raise ValueError(\n",
        "                'The maxlen of inputs of TextCNN must be %d, but now is %d' % (self.maxlen, inputs.get_shape()[1]))\n",
        "        # Embedding part can try multichannel as same as origin paper\n",
        "        embedding = self.embedding(inputs)\n",
        "        convs = []\n",
        "        for i in range(len(self.kernel_sizes)):\n",
        "            c = self.convs[i](embedding)\n",
        "            c = self.max_poolings[i](c)\n",
        "            convs.append(c)\n",
        "        x = Concatenate()(convs)\n",
        "        output = self.classifier(x)\n",
        "        return output"
      ],
      "execution_count": 171,
      "outputs": []
    },
    {
      "cell_type": "code",
      "metadata": {
        "id": "4F9ImOWQNG1u",
        "colab_type": "code",
        "colab": {}
      },
      "source": [
        "import fasttext\n",
        "import numpy as np\n",
        "import pandas as pd\n",
        "import nltk\n",
        "from nltk.stem import WordNetLemmatizer\n",
        "from nltk.corpus import stopwords\n",
        "from keras_preprocessing import sequence\n",
        "from keras_preprocessing.text import Tokenizer\n",
        "from sklearn.metrics import precision_score, recall_score, f1_score, classification_report\n",
        "from tensorflow.keras.callbacks import EarlyStopping"
      ],
      "execution_count": 172,
      "outputs": []
    },
    {
      "cell_type": "code",
      "metadata": {
        "id": "diLag1ylQicz",
        "colab_type": "code",
        "colab": {}
      },
      "source": [
        "BATCH_SIZE = 128\n",
        "EMBEDDINGS_DIM = 200\n",
        "CLASSIFIER_TRAIN_EPOCHS = 10\n",
        "CLASSIFICATION_THRESHOLD = 0.5"
      ],
      "execution_count": 173,
      "outputs": []
    },
    {
      "cell_type": "code",
      "metadata": {
        "id": "hhcvRtpMQxVA",
        "colab_type": "code",
        "colab": {
          "base_uri": "https://localhost:8080/",
          "height": 35
        },
        "outputId": "06244257-0d9b-4937-d643-359ef08461f8"
      },
      "source": [
        "# Loading pretrained fastext model\n",
        "fasttext_model = fasttext.load_model(fasttext_model_path)\n",
        "\n",
        "# Extracting tweet texts\n",
        "train_tweet_texts = train_df.tweet.values\n",
        "test_tweet_texts = test_df.tweet.values\n",
        "dev_tweet_texts = dev_df.tweet.values\n",
        "\n",
        "# Extracting tweet labels\n",
        "train_labels = train_df['class'].values\n",
        "test_labels = test_df['class'].values\n",
        "dev_labels = dev_df['class'].values"
      ],
      "execution_count": 174,
      "outputs": [
        {
          "output_type": "stream",
          "text": [
            "Warning : `load_model` does not return WordVectorModel or SupervisedModel any more, but a `FastText` object which is very similar.\n"
          ],
          "name": "stderr"
        }
      ]
    },
    {
      "cell_type": "markdown",
      "metadata": {
        "id": "z8c5lvxoEkCR",
        "colab_type": "text"
      },
      "source": [
        "# **Пре-процессинг:**"
      ]
    },
    {
      "cell_type": "code",
      "metadata": {
        "id": "AhDUe5W7MDoN",
        "colab_type": "code",
        "colab": {}
      },
      "source": [
        "import re\n",
        "def list_replace(search, replacement, text):\n",
        "    \"\"\"\n",
        "    Replaces all symbols of text which are present\n",
        "    in the search string with the replacement string.\n",
        "    \"\"\"\n",
        "    search = [el for el in search if el in text]\n",
        "    for c in search:\n",
        "        text = text.replace(c, replacement)\n",
        "    return text\n",
        "\n",
        "def clean_text(text):\n",
        "\n",
        "    text = list_replace \\\n",
        "        ('\\u00AB\\u00BB\\u2039\\u203A\\u201E\\u201A\\u201C\\u201F\\u2018\\u201B\\u201D\\u2019', '\\u0022', text)\n",
        "\n",
        "    text = list_replace \\\n",
        "        ('\\u2012\\u2013\\u2014\\u2015\\u203E\\u0305\\u00AF', '\\u2003\\u002D\\u002D\\u2003', text)\n",
        "\n",
        "    text = list_replace('\\u2010\\u2011', '\\u002D', text)\n",
        "\n",
        "    text = list_replace \\\n",
        "            (\n",
        "            '\\u2000\\u2001\\u2002\\u2004\\u2005\\u2006\\u2007\\u2008\\u2009\\u200A\\u200B\\u202F\\u205F\\u2060\\u3000',\n",
        "            '\\u2002', text)\n",
        "\n",
        "    text = re.sub('\\u2003\\u2003', '\\u2003', text)\n",
        "    text = re.sub('\\t\\t', '\\t', text)\n",
        "\n",
        "    text = list_replace \\\n",
        "            (\n",
        "            '\\u02CC\\u0307\\u0323\\u2022\\u2023\\u2043\\u204C\\u204D\\u2219\\u25E6\\u00B7\\u00D7\\u22C5\\u2219\\u2062',\n",
        "            '.', text)\n",
        "\n",
        "    text = list_replace('\\u2217', '\\u002A', text)\n",
        "\n",
        "    text = list_replace('…', '...', text)\n",
        "\n",
        "    text = list_replace('\\u00C4', 'A', text)\n",
        "    text = list_replace('\\u00E4', 'a', text)\n",
        "    text = list_replace('\\u00CB', 'E', text)\n",
        "    text = list_replace('\\u00EB', 'e', text)\n",
        "    text = list_replace('\\u1E26', 'H', text)\n",
        "    text = list_replace('\\u1E27', 'h', text)\n",
        "    text = list_replace('\\u00CF', 'I', text)\n",
        "    text = list_replace('\\u00EF', 'i', text)\n",
        "    text = list_replace('\\u00D6', 'O', text)\n",
        "    text = list_replace('\\u00F6', 'o', text)\n",
        "    text = list_replace('\\u00DC', 'U', text)\n",
        "    text = list_replace('\\u00FC', 'u', text)\n",
        "    text = list_replace('\\u0178', 'Y', text)\n",
        "    text = list_replace('\\u00FF', 'y', text)\n",
        "    text = list_replace('\\u00DF', 's', text)\n",
        "    text = list_replace('\\u1E9E', 'S', text)\n",
        "    # Removing punctuation\n",
        "    text = list_replace(',.[]{}()=+-−*&^%$#@!~;:§/\\|\\?\"\\n', ' ', text)\n",
        "    # Replacing all numbers with masks\n",
        "    text = list_replace('0123456789', 'x', text)\n",
        "\n",
        "    currencies = list \\\n",
        "            (\n",
        "            '\\u20BD\\u0024\\u00A3\\u20A4\\u20AC\\u20AA\\u2133\\u20BE\\u00A2\\u058F\\u0BF9\\u20BC\\u20A1\\u20A0\\u20B4\\u20A7\\u20B0\\u20BF\\u20A3\\u060B\\u0E3F\\u20A9\\u20B4\\u20B2\\u0192\\u20AB\\u00A5\\u20AD\\u20A1\\u20BA\\u20A6\\u20B1\\uFDFC\\u17DB\\u20B9\\u20A8\\u20B5\\u09F3\\u20B8\\u20AE\\u0192'\n",
        "        )\n",
        "\n",
        "    alphabet = list \\\n",
        "            (\n",
        "            '\\t\\r абвгдеёзжийклмнопрстуфхцчшщьыъэюяАБВГДЕЁЗЖИЙКЛМНОПРСТУФХЦЧШЩЬЫЪЭЮЯabcdefghijklmnopqrstuvwxyzABCDEFGHIJKLMNOPQRSTUVWXYZ ')\n",
        "\n",
        "    allowed = set(currencies + alphabet)\n",
        "\n",
        "    cleaned_text = [sym for sym in text if sym in allowed]\n",
        "    cleaned_text = ''.join(cleaned_text)\n",
        "\n",
        "    return cleaned_text"
      ],
      "execution_count": 175,
      "outputs": []
    },
    {
      "cell_type": "markdown",
      "metadata": {
        "id": "YxmA_QYARlko",
        "colab_type": "text"
      },
      "source": [
        "**Очистка:**"
      ]
    },
    {
      "cell_type": "code",
      "metadata": {
        "id": "eSKRJDV7N74T",
        "colab_type": "code",
        "colab": {}
      },
      "source": [
        "maxlen = 0\n",
        "# Preprocessing training tweets\n",
        "cleaned_train_texts = []\n",
        "for tweet_text in train_tweet_texts:\n",
        "    cleaned_text = clean_text(tweet_text).lower()\n",
        "    split_cleaned_text = cleaned_text.split()\n",
        "    # Estimating max length of all training tweets in tokens\n",
        "    if len(split_cleaned_text) > maxlen:\n",
        "        maxlen = len(split_cleaned_text)\n",
        "    cleaned_train_texts.append(\" \".join(split_cleaned_text))\n",
        "    \n",
        "# Preprocessing test tweets\n",
        "cleaned_test_texts = []\n",
        "for tweet_text in test_tweet_texts:\n",
        "    cleaned_text = clean_text(tweet_text)\n",
        "    cleaned_test_texts.append(\" \".join(cleaned_text.split()))\n",
        "    \n",
        "# Preprocessing validation tweets\n",
        "cleaned_dev_texts = []\n",
        "for tweet_text in dev_tweet_texts:\n",
        "    cleaned_text = clean_text(tweet_text)\n",
        "    cleaned_dev_texts.append(\" \".join(cleaned_text.split()))"
      ],
      "execution_count": 176,
      "outputs": []
    },
    {
      "cell_type": "markdown",
      "metadata": {
        "id": "Dmnq_eSyRxGh",
        "colab_type": "text"
      },
      "source": [
        "**Лемматизация:**"
      ]
    },
    {
      "cell_type": "code",
      "metadata": {
        "id": "BZQkG_tmUgi9",
        "colab_type": "code",
        "colab": {}
      },
      "source": [
        "nltk.download('punkt')\n",
        "nltk.download('wordnet')\n",
        "nltk.download('stopwords')"
      ],
      "execution_count": null,
      "outputs": []
    },
    {
      "cell_type": "code",
      "metadata": {
        "id": "BSbEOz8ZS7eF",
        "colab_type": "code",
        "colab": {}
      },
      "source": [
        "lemmatizer = WordNetLemmatizer()\n",
        "stop_words = set(stopwords.words('english'))"
      ],
      "execution_count": 178,
      "outputs": []
    },
    {
      "cell_type": "code",
      "metadata": {
        "id": "2ZbmwxkYR3NC",
        "colab_type": "code",
        "colab": {}
      },
      "source": [
        "def lemm(texts):\n",
        "    texts = list(map(nltk.word_tokenize, texts))\n",
        "    texts = list(map(lambda ww: [lemmatizer.lemmatize(w) for w in ww], texts))\n",
        "    texts = list(map(lambda ww: [w for w in ww if w not in stop_words], texts))\n",
        "    texts = [' '.join(ww) for ww in texts]\n",
        "    return texts"
      ],
      "execution_count": 179,
      "outputs": []
    },
    {
      "cell_type": "code",
      "metadata": {
        "id": "-Eq5BkqUSwMR",
        "colab_type": "code",
        "colab": {}
      },
      "source": [
        "cleaned_train_texts"
      ],
      "execution_count": null,
      "outputs": []
    },
    {
      "cell_type": "code",
      "metadata": {
        "id": "x9mJocD3SMEt",
        "colab_type": "code",
        "colab": {}
      },
      "source": [
        "cleaned_train_texts = lemm(cleaned_train_texts)\n",
        "cleaned_test_texts = lemm(cleaned_test_texts)\n",
        "cleaned_dev_texts = lemm(cleaned_dev_texts)"
      ],
      "execution_count": 181,
      "outputs": []
    },
    {
      "cell_type": "markdown",
      "metadata": {
        "id": "fTY_T9xDGsg7",
        "colab_type": "text"
      },
      "source": [
        "# **Эмбеддинг:**"
      ]
    },
    {
      "cell_type": "code",
      "metadata": {
        "id": "I1Zpi8L-OPDk",
        "colab_type": "code",
        "colab": {}
      },
      "source": [
        "tokenizer = Tokenizer(lower=True, char_level=False)\n",
        "tokenizer.fit_on_texts(cleaned_train_texts + cleaned_test_texts + cleaned_dev_texts)\n",
        "# Converting texts to lists of ids\n",
        "word_seq_train = tokenizer.texts_to_sequences(cleaned_train_texts)\n",
        "word_seq_test = tokenizer.texts_to_sequences(cleaned_test_texts)\n",
        "word_seq_dev = tokenizer.texts_to_sequences(cleaned_dev_texts)\n",
        "word_index = tokenizer.word_index\n",
        "\n",
        "# Padding too short tweet texts with '0's\n",
        "word_seq_train = sequence.pad_sequences(word_seq_train, maxlen=maxlen)\n",
        "word_seq_test = sequence.pad_sequences(word_seq_test, maxlen=maxlen)\n",
        "word_seq_dev = sequence.pad_sequences(word_seq_dev, maxlen=maxlen)\n",
        "\n",
        "dictionary_size = len(word_index.keys())\n",
        "# 0-th token of embedding matrix is a padding token\n",
        "embedding_matrix = np.zeros((dictionary_size + 1, EMBEDDINGS_DIM))\\\n",
        "\n",
        "vector_count = 0\n",
        "for word, i in word_index.items():\n",
        "    embedding_vector = fasttext_model.get_word_vector((word))\n",
        "    if (embedding_vector is not None) and len(embedding_vector) > 0:\n",
        "        # words not found in embedding index will be all-zeros.\n",
        "        vector_count += 1\n",
        "        embedding_matrix[i] = embedding_vector"
      ],
      "execution_count": 188,
      "outputs": []
    },
    {
      "cell_type": "code",
      "metadata": {
        "id": "y7p8oHFEc9xA",
        "colab_type": "code",
        "colab": {
          "base_uri": "https://localhost:8080/",
          "height": 35
        },
        "outputId": "a12f18a4-6f50-43c0-e08c-938d7ae20d99"
      },
      "source": [
        "print('dictionary coverage: ' + str(vector_count * 100 / len(word_index.items())) + '%') # not right, but 100% anyway"
      ],
      "execution_count": 196,
      "outputs": [
        {
          "output_type": "stream",
          "text": [
            "dictionary coverage: 100.0%\n"
          ],
          "name": "stdout"
        }
      ]
    },
    {
      "cell_type": "markdown",
      "metadata": {
        "id": "LAU69TK-GXQx",
        "colab_type": "text"
      },
      "source": [
        "# **Компиляция модели:**"
      ]
    },
    {
      "cell_type": "code",
      "metadata": {
        "id": "uvh_42byPBDP",
        "colab_type": "code",
        "colab": {}
      },
      "source": [
        "model = TextCNN(maxlen, dictionary_size + 1, EMBEDDINGS_DIM, embedding_weights=embedding_matrix)\n",
        "model.compile('adam', 'binary_crossentropy', metrics=['accuracy'], )\n",
        "early_stopping = EarlyStopping(monitor='val_accuracy', patience=3 , mode='max', restore_best_weights=True)"
      ],
      "execution_count": 183,
      "outputs": []
    },
    {
      "cell_type": "markdown",
      "metadata": {
        "id": "eI8dUcTuGHv6",
        "colab_type": "text"
      },
      "source": [
        "# **Обучение модели:**"
      ]
    },
    {
      "cell_type": "code",
      "metadata": {
        "id": "eCxmIJa3PV-m",
        "colab_type": "code",
        "colab": {
          "base_uri": "https://localhost:8080/",
          "height": 254
        },
        "outputId": "4b88a33c-4826-415a-f07d-dfbfaf20e15f"
      },
      "source": [
        "model.fit(word_seq_train, train_labels,\n",
        "              batch_size=BATCH_SIZE,\n",
        "              epochs=CLASSIFIER_TRAIN_EPOCHS,\n",
        "              callbacks=[early_stopping, ],\n",
        "              validation_data=(word_seq_dev, dev_labels))"
      ],
      "execution_count": 184,
      "outputs": [
        {
          "output_type": "stream",
          "text": [
            "Epoch 1/10\n",
            "67/67 [==============================] - 31s 459ms/step - loss: 0.2755 - accuracy: 0.9108 - val_loss: 0.2120 - val_accuracy: 0.9233\n",
            "Epoch 2/10\n",
            "67/67 [==============================] - 31s 458ms/step - loss: 0.1474 - accuracy: 0.9429 - val_loss: 0.2048 - val_accuracy: 0.9223\n",
            "Epoch 3/10\n",
            "67/67 [==============================] - 31s 458ms/step - loss: 0.0790 - accuracy: 0.9771 - val_loss: 0.2092 - val_accuracy: 0.9275\n",
            "Epoch 4/10\n",
            "67/67 [==============================] - 30s 454ms/step - loss: 0.0375 - accuracy: 0.9942 - val_loss: 0.2196 - val_accuracy: 0.9244\n",
            "Epoch 5/10\n",
            "67/67 [==============================] - 30s 450ms/step - loss: 0.0175 - accuracy: 0.9988 - val_loss: 0.2438 - val_accuracy: 0.9254\n",
            "Epoch 6/10\n",
            "67/67 [==============================] - 30s 450ms/step - loss: 0.0095 - accuracy: 0.9993 - val_loss: 0.2558 - val_accuracy: 0.9233\n"
          ],
          "name": "stdout"
        },
        {
          "output_type": "execute_result",
          "data": {
            "text/plain": [
              "<tensorflow.python.keras.callbacks.History at 0x7fbfddfe4780>"
            ]
          },
          "metadata": {
            "tags": []
          },
          "execution_count": 184
        }
      ]
    },
    {
      "cell_type": "markdown",
      "metadata": {
        "id": "KmZYpcSxG_0p",
        "colab_type": "text"
      },
      "source": [
        "# **Вывод результатов:**"
      ]
    },
    {
      "cell_type": "code",
      "metadata": {
        "id": "8M1CDE0yZFTk",
        "colab_type": "code",
        "colab": {}
      },
      "source": [
        "predicted_test_prob = model.predict(word_seq_test)\n",
        "predicted_test_labels = []\n",
        "predicted_dev_prob = model.predict(word_seq_dev)\n",
        "predicted_dev_labels = []\n",
        "\n",
        "for subarray in predicted_test_prob:\n",
        "    label = 1 if subarray[0] >= CLASSIFICATION_THRESHOLD else 0\n",
        "    predicted_test_labels.append(label)\n",
        "\n",
        "for subarray in predicted_dev_prob:\n",
        "    label = 1 if subarray[0] >= CLASSIFICATION_THRESHOLD else 0\n",
        "    predicted_dev_labels.append(label)"
      ],
      "execution_count": 185,
      "outputs": []
    },
    {
      "cell_type": "code",
      "metadata": {
        "id": "u7I169ljZc_N",
        "colab_type": "code",
        "colab": {
          "base_uri": "https://localhost:8080/",
          "height": 181
        },
        "outputId": "45913541-d3b7-4cdb-efc6-3fd5d3530889"
      },
      "source": [
        "dev_precision = precision_score(dev_labels, predicted_dev_labels, )\n",
        "dev_recall = recall_score(dev_labels, predicted_dev_labels, )\n",
        "dev_f_measure = f1_score(dev_labels, predicted_dev_labels, )\n",
        "print(f\"Dev:\\nPrecision: {dev_precision}\\n\"\n",
        "        f\"Recall: {dev_recall}\\nF-measure: {dev_f_measure}\")\n",
        "\n",
        "test_precision = precision_score(test_labels, predicted_test_labels, )\n",
        "test_recall = recall_score(test_labels, predicted_test_labels, )\n",
        "test_f_measure = f1_score(test_labels, predicted_test_labels, )\n",
        "print(f\"Test:\\nPrecision: {test_precision}\\n\"\n",
        "        f\"Recall: {test_recall}\\nF-measure: {test_f_measure}\\n\")\n"
      ],
      "execution_count": 186,
      "outputs": [
        {
          "output_type": "stream",
          "text": [
            "Dev:\n",
            "Precision: 0.6666666666666666\n",
            "Recall: 0.3170731707317073\n",
            "F-measure: 0.4297520661157025\n",
            "Test:\n",
            "Precision: 0.723404255319149\n",
            "Recall: 0.3434343434343434\n",
            "F-measure: 0.4657534246575343\n",
            "\n"
          ],
          "name": "stdout"
        }
      ]
    },
    {
      "cell_type": "code",
      "metadata": {
        "id": "A3hCr3BoZx0-",
        "colab_type": "code",
        "colab": {
          "base_uri": "https://localhost:8080/",
          "height": 181
        },
        "outputId": "81b574f4-7875-4ef8-8f8f-6cb234468515"
      },
      "source": [
        "print(classification_report(test_labels, predicted_test_labels, digits=5))"
      ],
      "execution_count": 187,
      "outputs": [
        {
          "output_type": "stream",
          "text": [
            "              precision    recall  f1-score   support\n",
            "\n",
            "           0    0.90780   0.98009   0.94256      1306\n",
            "           1    0.72340   0.34343   0.46575       198\n",
            "\n",
            "    accuracy                        0.89628      1504\n",
            "   macro avg    0.81560   0.66176   0.70416      1504\n",
            "weighted avg    0.88353   0.89628   0.87979      1504\n",
            "\n"
          ],
          "name": "stdout"
        }
      ]
    }
  ]
}