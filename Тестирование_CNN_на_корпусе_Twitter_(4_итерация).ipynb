{
  "nbformat": 4,
  "nbformat_minor": 0,
  "metadata": {
    "colab": {
      "name": "Тестирование CNN на корпусе Twitter (4 итерация).ipynb",
      "provenance": [],
      "mount_file_id": "1mPtY-A6YBYXSJYhoYyfcmFYL_ybQDh1O",
      "authorship_tag": "ABX9TyOYZZL2wcicNZElxjBKzFRM",
      "include_colab_link": true
    },
    "kernelspec": {
      "name": "python3",
      "display_name": "Python 3"
    }
  },
  "cells": [
    {
      "cell_type": "markdown",
      "metadata": {
        "id": "view-in-github",
        "colab_type": "text"
      },
      "source": [
        "<a href=\"https://colab.research.google.com/github/a-shn/TweetsClassificationCNN/blob/master/%D0%A2%D0%B5%D1%81%D1%82%D0%B8%D1%80%D0%BE%D0%B2%D0%B0%D0%BD%D0%B8%D0%B5_CNN_%D0%BD%D0%B0_%D0%BA%D0%BE%D1%80%D0%BF%D1%83%D1%81%D0%B5_Twitter_(4_%D0%B8%D1%82%D0%B5%D1%80%D0%B0%D1%86%D0%B8%D1%8F).ipynb\" target=\"_parent\"><img src=\"https://colab.research.google.com/assets/colab-badge.svg\" alt=\"Open In Colab\"/></a>"
      ]
    },
    {
      "cell_type": "markdown",
      "metadata": {
        "id": "Mfqwnjh1wdIC"
      },
      "source": [
        "# **Common section:**"
      ]
    },
    {
      "cell_type": "code",
      "metadata": {
        "id": "dDXG7lAdTq19"
      },
      "source": [
        "import os\n",
        "import pandas as pd\n",
        "from sklearn.model_selection import train_test_split"
      ],
      "execution_count": 67,
      "outputs": []
    },
    {
      "cell_type": "code",
      "metadata": {
        "id": "4VMCSCftZsiH"
      },
      "source": [
        "KEEP_COLUMNS = [\"class\", \"tweet\"]\n",
        "\n",
        "training_raw_path = '/content/drive/My Drive/NLP/RuADReCT_raw/task2_ru_training_raw.tsv'\n",
        "valiadtion_raw_path = '/content/drive/My Drive/NLP/RuADReCT_raw/task2_ru_validation_raw.tsv'\n",
        "test_raw_path = '/content/drive/My Drive/NLP/RuADReCT_raw/task2_ru_test_raw.tsv'\n",
        "test_final_raw_path = '/content/drive/My Drive/NLP/RuADReCT_raw/task2_ru_test_final_raw.tsv'\n",
        "\n",
        "fasttext_model_path = '/content/drive/My Drive/NLP/rudrec_fasttext/rudrec_fasttext_model.bin'\n",
        "\n",
        "muse_supervised_path = '/content/drive/My Drive/NLP/MUSE/wiki.multi.ru.vec'\n",
        "muse_bin_path = '/content/wiki.multi.ru.bin'\n",
        "\n",
        "laser_input_words = '/content/drive/My Drive/NLP/LASER/input_text.txt'\n",
        "laser_embeddings = '/content/drive/My Drive/NLP/LASER/tweet_embeddings.raw'"
      ],
      "execution_count": 68,
      "outputs": []
    },
    {
      "cell_type": "code",
      "metadata": {
        "id": "tUt-KwhTZ6Qu"
      },
      "source": [
        "train_df = pd.concat([pd.read_csv(training_raw_path, sep=\"\\t\", encoding=\"utf-8\"), \n",
        "                      pd.read_csv(valiadtion_raw_path, sep=\"\\t\", encoding=\"utf-8\"),\n",
        "                      pd.read_csv(test_raw_path, sep=\"\\t\", encoding=\"utf-8\")])\n",
        "test_df = pd.read_csv(test_final_raw_path, sep=\"\\t\", encoding=\"utf-8\")\n",
        "\n",
        "train_df = train_df[KEEP_COLUMNS] \n",
        "train_df = train_df[(train_df['class'] == 0) | (train_df['class'] == 1)] # Удаляем невалидные строки (класс NaN, например)\n",
        "test_df = test_df[KEEP_COLUMNS]\n",
        "test_df = test_df[(test_df['class'] == 0) | (test_df['class'] == 1)]"
      ],
      "execution_count": 69,
      "outputs": []
    },
    {
      "cell_type": "code",
      "metadata": {
        "id": "ZAyJ8OgsZ_kq"
      },
      "source": [
        "train_df, dev_df, _, _ = \\\n",
        "    train_test_split(train_df, train_df, test_size=0.1, random_state=42)\n",
        "train_positive_class_df = train_df[train_df['class'] == 1]\n",
        "train_negative_class_df = train_df[train_df['class'] == 0]"
      ],
      "execution_count": 70,
      "outputs": []
    },
    {
      "cell_type": "code",
      "metadata": {
        "id": "SxYVDNLcaAEf",
        "outputId": "1924cc35-fef0-49af-b8bf-0ce88a38b3e8",
        "colab": {
          "base_uri": "https://localhost:8080/",
          "height": 0
        }
      },
      "source": [
        "!pip install gensim \n",
        "!pip install tensorflow\n",
        "!pip install fasttext\n",
        "!pip install pymorphy2\n",
        "!pip install imbalanced-learn"
      ],
      "execution_count": 71,
      "outputs": [
        {
          "output_type": "stream",
          "text": [
            "Requirement already satisfied: gensim in /usr/local/lib/python3.6/dist-packages (3.6.0)\n",
            "Requirement already satisfied: smart-open>=1.2.1 in /usr/local/lib/python3.6/dist-packages (from gensim) (2.2.0)\n",
            "Requirement already satisfied: numpy>=1.11.3 in /usr/local/lib/python3.6/dist-packages (from gensim) (1.18.5)\n",
            "Requirement already satisfied: six>=1.5.0 in /usr/local/lib/python3.6/dist-packages (from gensim) (1.15.0)\n",
            "Requirement already satisfied: scipy>=0.18.1 in /usr/local/lib/python3.6/dist-packages (from gensim) (1.4.1)\n",
            "Requirement already satisfied: requests in /usr/local/lib/python3.6/dist-packages (from smart-open>=1.2.1->gensim) (2.23.0)\n",
            "Requirement already satisfied: chardet<4,>=3.0.2 in /usr/local/lib/python3.6/dist-packages (from requests->smart-open>=1.2.1->gensim) (3.0.4)\n",
            "Requirement already satisfied: certifi>=2017.4.17 in /usr/local/lib/python3.6/dist-packages (from requests->smart-open>=1.2.1->gensim) (2020.6.20)\n",
            "Requirement already satisfied: urllib3!=1.25.0,!=1.25.1,<1.26,>=1.21.1 in /usr/local/lib/python3.6/dist-packages (from requests->smart-open>=1.2.1->gensim) (1.24.3)\n",
            "Requirement already satisfied: idna<3,>=2.5 in /usr/local/lib/python3.6/dist-packages (from requests->smart-open>=1.2.1->gensim) (2.10)\n",
            "Requirement already satisfied: tensorflow in /usr/local/lib/python3.6/dist-packages (2.3.0)\n",
            "Requirement already satisfied: six>=1.12.0 in /usr/local/lib/python3.6/dist-packages (from tensorflow) (1.15.0)\n",
            "Requirement already satisfied: h5py<2.11.0,>=2.10.0 in /usr/local/lib/python3.6/dist-packages (from tensorflow) (2.10.0)\n",
            "Requirement already satisfied: keras-preprocessing<1.2,>=1.1.1 in /usr/local/lib/python3.6/dist-packages (from tensorflow) (1.1.2)\n",
            "Requirement already satisfied: numpy<1.19.0,>=1.16.0 in /usr/local/lib/python3.6/dist-packages (from tensorflow) (1.18.5)\n",
            "Requirement already satisfied: protobuf>=3.9.2 in /usr/local/lib/python3.6/dist-packages (from tensorflow) (3.12.4)\n",
            "Requirement already satisfied: termcolor>=1.1.0 in /usr/local/lib/python3.6/dist-packages (from tensorflow) (1.1.0)\n",
            "Requirement already satisfied: opt-einsum>=2.3.2 in /usr/local/lib/python3.6/dist-packages (from tensorflow) (3.3.0)\n",
            "Requirement already satisfied: wheel>=0.26 in /usr/local/lib/python3.6/dist-packages (from tensorflow) (0.35.1)\n",
            "Requirement already satisfied: grpcio>=1.8.6 in /usr/local/lib/python3.6/dist-packages (from tensorflow) (1.32.0)\n",
            "Requirement already satisfied: google-pasta>=0.1.8 in /usr/local/lib/python3.6/dist-packages (from tensorflow) (0.2.0)\n",
            "Requirement already satisfied: tensorboard<3,>=2.3.0 in /usr/local/lib/python3.6/dist-packages (from tensorflow) (2.3.0)\n",
            "Requirement already satisfied: tensorflow-estimator<2.4.0,>=2.3.0 in /usr/local/lib/python3.6/dist-packages (from tensorflow) (2.3.0)\n",
            "Requirement already satisfied: scipy==1.4.1 in /usr/local/lib/python3.6/dist-packages (from tensorflow) (1.4.1)\n",
            "Requirement already satisfied: wrapt>=1.11.1 in /usr/local/lib/python3.6/dist-packages (from tensorflow) (1.12.1)\n",
            "Requirement already satisfied: absl-py>=0.7.0 in /usr/local/lib/python3.6/dist-packages (from tensorflow) (0.10.0)\n",
            "Requirement already satisfied: gast==0.3.3 in /usr/local/lib/python3.6/dist-packages (from tensorflow) (0.3.3)\n",
            "Requirement already satisfied: astunparse==1.6.3 in /usr/local/lib/python3.6/dist-packages (from tensorflow) (1.6.3)\n",
            "Requirement already satisfied: setuptools in /usr/local/lib/python3.6/dist-packages (from protobuf>=3.9.2->tensorflow) (50.3.0)\n",
            "Requirement already satisfied: tensorboard-plugin-wit>=1.6.0 in /usr/local/lib/python3.6/dist-packages (from tensorboard<3,>=2.3.0->tensorflow) (1.7.0)\n",
            "Requirement already satisfied: google-auth-oauthlib<0.5,>=0.4.1 in /usr/local/lib/python3.6/dist-packages (from tensorboard<3,>=2.3.0->tensorflow) (0.4.1)\n",
            "Requirement already satisfied: google-auth<2,>=1.6.3 in /usr/local/lib/python3.6/dist-packages (from tensorboard<3,>=2.3.0->tensorflow) (1.17.2)\n",
            "Requirement already satisfied: werkzeug>=0.11.15 in /usr/local/lib/python3.6/dist-packages (from tensorboard<3,>=2.3.0->tensorflow) (1.0.1)\n",
            "Requirement already satisfied: requests<3,>=2.21.0 in /usr/local/lib/python3.6/dist-packages (from tensorboard<3,>=2.3.0->tensorflow) (2.23.0)\n",
            "Requirement already satisfied: markdown>=2.6.8 in /usr/local/lib/python3.6/dist-packages (from tensorboard<3,>=2.3.0->tensorflow) (3.2.2)\n",
            "Requirement already satisfied: requests-oauthlib>=0.7.0 in /usr/local/lib/python3.6/dist-packages (from google-auth-oauthlib<0.5,>=0.4.1->tensorboard<3,>=2.3.0->tensorflow) (1.3.0)\n",
            "Requirement already satisfied: cachetools<5.0,>=2.0.0 in /usr/local/lib/python3.6/dist-packages (from google-auth<2,>=1.6.3->tensorboard<3,>=2.3.0->tensorflow) (4.1.1)\n",
            "Requirement already satisfied: pyasn1-modules>=0.2.1 in /usr/local/lib/python3.6/dist-packages (from google-auth<2,>=1.6.3->tensorboard<3,>=2.3.0->tensorflow) (0.2.8)\n",
            "Requirement already satisfied: rsa<5,>=3.1.4; python_version >= \"3\" in /usr/local/lib/python3.6/dist-packages (from google-auth<2,>=1.6.3->tensorboard<3,>=2.3.0->tensorflow) (4.6)\n",
            "Requirement already satisfied: idna<3,>=2.5 in /usr/local/lib/python3.6/dist-packages (from requests<3,>=2.21.0->tensorboard<3,>=2.3.0->tensorflow) (2.10)\n",
            "Requirement already satisfied: chardet<4,>=3.0.2 in /usr/local/lib/python3.6/dist-packages (from requests<3,>=2.21.0->tensorboard<3,>=2.3.0->tensorflow) (3.0.4)\n",
            "Requirement already satisfied: certifi>=2017.4.17 in /usr/local/lib/python3.6/dist-packages (from requests<3,>=2.21.0->tensorboard<3,>=2.3.0->tensorflow) (2020.6.20)\n",
            "Requirement already satisfied: urllib3!=1.25.0,!=1.25.1,<1.26,>=1.21.1 in /usr/local/lib/python3.6/dist-packages (from requests<3,>=2.21.0->tensorboard<3,>=2.3.0->tensorflow) (1.24.3)\n",
            "Requirement already satisfied: importlib-metadata; python_version < \"3.8\" in /usr/local/lib/python3.6/dist-packages (from markdown>=2.6.8->tensorboard<3,>=2.3.0->tensorflow) (2.0.0)\n",
            "Requirement already satisfied: oauthlib>=3.0.0 in /usr/local/lib/python3.6/dist-packages (from requests-oauthlib>=0.7.0->google-auth-oauthlib<0.5,>=0.4.1->tensorboard<3,>=2.3.0->tensorflow) (3.1.0)\n",
            "Requirement already satisfied: pyasn1<0.5.0,>=0.4.6 in /usr/local/lib/python3.6/dist-packages (from pyasn1-modules>=0.2.1->google-auth<2,>=1.6.3->tensorboard<3,>=2.3.0->tensorflow) (0.4.8)\n",
            "Requirement already satisfied: zipp>=0.5 in /usr/local/lib/python3.6/dist-packages (from importlib-metadata; python_version < \"3.8\"->markdown>=2.6.8->tensorboard<3,>=2.3.0->tensorflow) (3.2.0)\n",
            "Requirement already satisfied: fasttext in /usr/local/lib/python3.6/dist-packages (0.9.2)\n",
            "Requirement already satisfied: setuptools>=0.7.0 in /usr/local/lib/python3.6/dist-packages (from fasttext) (50.3.0)\n",
            "Requirement already satisfied: numpy in /usr/local/lib/python3.6/dist-packages (from fasttext) (1.18.5)\n",
            "Requirement already satisfied: pybind11>=2.2 in /usr/local/lib/python3.6/dist-packages (from fasttext) (2.5.0)\n",
            "Requirement already satisfied: pymorphy2 in /usr/local/lib/python3.6/dist-packages (0.9.1)\n",
            "Requirement already satisfied: docopt>=0.6 in /usr/local/lib/python3.6/dist-packages (from pymorphy2) (0.6.2)\n",
            "Requirement already satisfied: pymorphy2-dicts-ru<3.0,>=2.4 in /usr/local/lib/python3.6/dist-packages (from pymorphy2) (2.4.417127.4579844)\n",
            "Requirement already satisfied: dawg-python>=0.7.1 in /usr/local/lib/python3.6/dist-packages (from pymorphy2) (0.7.2)\n",
            "Requirement already satisfied: imbalanced-learn in /usr/local/lib/python3.6/dist-packages (0.4.3)\n",
            "Requirement already satisfied: numpy>=1.8.2 in /usr/local/lib/python3.6/dist-packages (from imbalanced-learn) (1.18.5)\n",
            "Requirement already satisfied: scipy>=0.13.3 in /usr/local/lib/python3.6/dist-packages (from imbalanced-learn) (1.4.1)\n",
            "Requirement already satisfied: scikit-learn>=0.20 in /usr/local/lib/python3.6/dist-packages (from imbalanced-learn) (0.22.2.post1)\n",
            "Requirement already satisfied: joblib>=0.11 in /usr/local/lib/python3.6/dist-packages (from scikit-learn>=0.20->imbalanced-learn) (0.16.0)\n"
          ],
          "name": "stdout"
        }
      ]
    },
    {
      "cell_type": "code",
      "metadata": {
        "id": "lvkj8UFraAzF"
      },
      "source": [
        "from tensorflow.keras import Model\n",
        "from tensorflow.keras.layers import Embedding, Dense, Conv1D, GlobalMaxPooling1D, Concatenate\n",
        "\n",
        "class TextCNN(Model):\n",
        "    def __init__(self,\n",
        "                 maxlen,\n",
        "                 max_features,\n",
        "                 embedding_dims,\n",
        "                 kernel_sizes=[3, 4, 5],\n",
        "                 class_num=1,\n",
        "                 last_activation='sigmoid',\n",
        "                 embedding_weights=None):\n",
        "        super(TextCNN, self).__init__()\n",
        "        self.maxlen = maxlen\n",
        "        self.max_features = max_features\n",
        "        self.embedding_dims = embedding_dims\n",
        "        self.kernel_sizes = kernel_sizes\n",
        "        self.class_num = class_num\n",
        "        self.last_activation = last_activation\n",
        "        self.embedding = Embedding(self.max_features, self.embedding_dims,\n",
        "                                   input_length=self.maxlen, weights=[embedding_weights], )\n",
        "        self.convs = []\n",
        "        self.max_poolings = []\n",
        "        for kernel_size in self.kernel_sizes:\n",
        "            self.convs.append(Conv1D(128, kernel_size, activation='relu'))\n",
        "            self.max_poolings.append(GlobalMaxPooling1D())\n",
        "        self.classifier = Dense(self.class_num, activation=self.last_activation)\n",
        "\n",
        "    def call(self, inputs):\n",
        "        if len(inputs.get_shape()) != 2:\n",
        "            raise ValueError('The rank of inputs of TextCNN must be 2, but now is %d' % len(inputs.get_shape()))\n",
        "        if inputs.get_shape()[1] != self.maxlen:\n",
        "            raise ValueError(\n",
        "                'The maxlen of inputs of TextCNN must be %d, but now is %d' % (self.maxlen, inputs.get_shape()[1]))\n",
        "        # Embedding part can try multichannel as same as origin paper\n",
        "        embedding = self.embedding(inputs)\n",
        "        convs = []\n",
        "        for i in range(len(self.kernel_sizes)):\n",
        "            c = self.convs[i](embedding)\n",
        "            c = self.max_poolings[i](c)\n",
        "            convs.append(c)\n",
        "        x = Concatenate()(convs)\n",
        "        output = self.classifier(x)\n",
        "        return output"
      ],
      "execution_count": 72,
      "outputs": []
    },
    {
      "cell_type": "code",
      "metadata": {
        "id": "cFA_lZfMaBFu"
      },
      "source": [
        "from collections import Counter\n",
        "from gensim.models import KeyedVectors\n",
        "import fasttext\n",
        "import numpy as np\n",
        "import pandas as pd\n",
        "import pymorphy2\n",
        "from keras_preprocessing import sequence\n",
        "from keras_preprocessing.text import Tokenizer\n",
        "from sklearn.metrics import precision_score, recall_score, f1_score, classification_report\n",
        "from tensorflow.keras.callbacks import EarlyStopping"
      ],
      "execution_count": 73,
      "outputs": []
    },
    {
      "cell_type": "code",
      "metadata": {
        "id": "7HU2tIE0aBjG"
      },
      "source": [
        "BATCH_SIZE = 128\n",
        "CLASSIFIER_TRAIN_EPOCHS = 10\n",
        "CLASSIFICATION_THRESHOLD = 0.5"
      ],
      "execution_count": 74,
      "outputs": []
    },
    {
      "cell_type": "code",
      "metadata": {
        "id": "UnMrcyoKaCNO"
      },
      "source": [
        "# Extracting tweet texts\n",
        "train_tweet_texts = train_df.tweet.values\n",
        "test_tweet_texts = test_df.tweet.values\n",
        "dev_tweet_texts = dev_df.tweet.values\n",
        "\n",
        "# Extracting tweet labels\n",
        "train_labels = train_df['class'].values\n",
        "test_labels = test_df['class'].values\n",
        "dev_labels = dev_df['class'].values"
      ],
      "execution_count": 75,
      "outputs": []
    },
    {
      "cell_type": "markdown",
      "metadata": {
        "id": "lC0MPuP_E4NC"
      },
      "source": [
        "**Pre-processing:**"
      ]
    },
    {
      "cell_type": "code",
      "metadata": {
        "id": "kVs79AFHx1ld"
      },
      "source": [
        "import re\n",
        "def list_replace(search, replacement, text):\n",
        "    \"\"\"\n",
        "    Replaces all symbols of text which are present\n",
        "    in the search string with the replacement string.\n",
        "    \"\"\"\n",
        "    search = [el for el in search if el in text]\n",
        "    for c in search:\n",
        "        text = text.replace(c, replacement)\n",
        "    return text\n",
        "\n",
        "def clean_text(text):\n",
        "\n",
        "    text = list_replace \\\n",
        "        ('\\u00AB\\u00BB\\u2039\\u203A\\u201E\\u201A\\u201C\\u201F\\u2018\\u201B\\u201D\\u2019', '\\u0022', text)\n",
        "\n",
        "    text = list_replace \\\n",
        "        ('\\u2012\\u2013\\u2014\\u2015\\u203E\\u0305\\u00AF', '\\u2003\\u002D\\u002D\\u2003', text)\n",
        "\n",
        "    text = list_replace('\\u2010\\u2011', '\\u002D', text)\n",
        "\n",
        "    text = list_replace \\\n",
        "            (\n",
        "            '\\u2000\\u2001\\u2002\\u2004\\u2005\\u2006\\u2007\\u2008\\u2009\\u200A\\u200B\\u202F\\u205F\\u2060\\u3000',\n",
        "            '\\u2002', text)\n",
        "\n",
        "    text = re.sub('\\u2003\\u2003', '\\u2003', text)\n",
        "    text = re.sub('\\t\\t', '\\t', text)\n",
        "\n",
        "    text = list_replace \\\n",
        "            (\n",
        "            '\\u02CC\\u0307\\u0323\\u2022\\u2023\\u2043\\u204C\\u204D\\u2219\\u25E6\\u00B7\\u00D7\\u22C5\\u2219\\u2062',\n",
        "            '.', text)\n",
        "\n",
        "    text = list_replace('\\u2217', '\\u002A', text)\n",
        "\n",
        "    text = list_replace('…', '...', text)\n",
        "\n",
        "    text = list_replace('\\u00C4', 'A', text)\n",
        "    text = list_replace('\\u00E4', 'a', text)\n",
        "    text = list_replace('\\u00CB', 'E', text)\n",
        "    text = list_replace('\\u00EB', 'e', text)\n",
        "    text = list_replace('\\u1E26', 'H', text)\n",
        "    text = list_replace('\\u1E27', 'h', text)\n",
        "    text = list_replace('\\u00CF', 'I', text)\n",
        "    text = list_replace('\\u00EF', 'i', text)\n",
        "    text = list_replace('\\u00D6', 'O', text)\n",
        "    text = list_replace('\\u00F6', 'o', text)\n",
        "    text = list_replace('\\u00DC', 'U', text)\n",
        "    text = list_replace('\\u00FC', 'u', text)\n",
        "    text = list_replace('\\u0178', 'Y', text)\n",
        "    text = list_replace('\\u00FF', 'y', text)\n",
        "    text = list_replace('\\u00DF', 's', text)\n",
        "    text = list_replace('\\u1E9E', 'S', text)\n",
        "    # Removing punctuation\n",
        "    text = list_replace(',.[]{}()=+-−*&^%$#@!~;:§/\\|\\?\"\\n', ' ', text)\n",
        "    # Replacing all numbers with masks\n",
        "    text = list_replace('0123456789', 'x', text)\n",
        "\n",
        "    currencies = list \\\n",
        "            (\n",
        "            '\\u20BD\\u0024\\u00A3\\u20A4\\u20AC\\u20AA\\u2133\\u20BE\\u00A2\\u058F\\u0BF9\\u20BC\\u20A1\\u20A0\\u20B4\\u20A7\\u20B0\\u20BF\\u20A3\\u060B\\u0E3F\\u20A9\\u20B4\\u20B2\\u0192\\u20AB\\u00A5\\u20AD\\u20A1\\u20BA\\u20A6\\u20B1\\uFDFC\\u17DB\\u20B9\\u20A8\\u20B5\\u09F3\\u20B8\\u20AE\\u0192'\n",
        "        )\n",
        "\n",
        "    alphabet = list \\\n",
        "            (\n",
        "            '\\t\\r абвгдеёзжийклмнопрстуфхцчшщьыъэюяАБВГДЕЁЗЖИЙКЛМНОПРСТУФХЦЧШЩЬЫЪЭЮЯabcdefghijklmnopqrstuvwxyzABCDEFGHIJKLMNOPQRSTUVWXYZ ')\n",
        "\n",
        "    allowed = set(currencies + alphabet)\n",
        "\n",
        "    cleaned_text = [sym for sym in text if sym in allowed]\n",
        "    cleaned_text = ''.join(cleaned_text)\n",
        "\n",
        "    return cleaned_text"
      ],
      "execution_count": 76,
      "outputs": []
    },
    {
      "cell_type": "markdown",
      "metadata": {
        "id": "mcZH2i4VFKjg"
      },
      "source": [
        "**Cleaning:**"
      ]
    },
    {
      "cell_type": "code",
      "metadata": {
        "id": "eBEcJ_85x5HF"
      },
      "source": [
        "maxlen = 0\n",
        "# Preprocessing training tweets\n",
        "cleaned_train_texts = []\n",
        "for tweet_text in train_tweet_texts:\n",
        "    cleaned_text = clean_text(tweet_text).lower()\n",
        "    split_cleaned_text = cleaned_text.split()\n",
        "    # Estimating max length of all training tweets in tokens\n",
        "    if len(split_cleaned_text) > maxlen:\n",
        "        maxlen = len(split_cleaned_text)\n",
        "    cleaned_train_texts.append(\" \".join(split_cleaned_text))\n",
        "    \n",
        "# Preprocessing test tweets\n",
        "cleaned_test_texts = []\n",
        "for tweet_text in test_tweet_texts:\n",
        "    cleaned_text = clean_text(tweet_text)\n",
        "    cleaned_test_texts.append(\" \".join(cleaned_text.split()))\n",
        "    \n",
        "# Preprocessing validation tweets\n",
        "cleaned_dev_texts = []\n",
        "for tweet_text in dev_tweet_texts:\n",
        "    cleaned_text = clean_text(tweet_text)\n",
        "    cleaned_dev_texts.append(\" \".join(cleaned_text.split()))"
      ],
      "execution_count": 77,
      "outputs": []
    },
    {
      "cell_type": "markdown",
      "metadata": {
        "id": "dyo3BgIqE9Tj"
      },
      "source": [
        "**Lemmatizing:**"
      ]
    },
    {
      "cell_type": "code",
      "metadata": {
        "id": "yTICrglox8rI"
      },
      "source": [
        "morph = pymorphy2.MorphAnalyzer()"
      ],
      "execution_count": 78,
      "outputs": []
    },
    {
      "cell_type": "code",
      "metadata": {
        "id": "1XB539ssx_hf"
      },
      "source": [
        "def lemm(texts):\n",
        "    texts = [ww.split(' ') for ww in texts]\n",
        "    texts = list(map(lambda ww: [morph.parse(w)[0].normal_form for w in ww], texts))\n",
        "    texts = [' '.join(ww) for ww in texts]\n",
        "    return texts"
      ],
      "execution_count": 79,
      "outputs": []
    },
    {
      "cell_type": "code",
      "metadata": {
        "id": "zRp0-UicyCAr"
      },
      "source": [
        "cleaned_train_texts = lemm(cleaned_train_texts)\n",
        "cleaned_test_texts = lemm(cleaned_test_texts)\n",
        "cleaned_dev_texts = lemm(cleaned_dev_texts)"
      ],
      "execution_count": 80,
      "outputs": []
    },
    {
      "cell_type": "markdown",
      "metadata": {
        "id": "av1_-xxsFB_X"
      },
      "source": [
        "**Common part of embedding:**"
      ]
    },
    {
      "cell_type": "code",
      "metadata": {
        "id": "Y_fV9A3hzM__"
      },
      "source": [
        "tokenizer = Tokenizer(lower=True, char_level=False)\n",
        "tokenizer.fit_on_texts(cleaned_train_texts + cleaned_test_texts + cleaned_dev_texts)\n",
        "# Converting texts to lists of ids\n",
        "word_seq_train = tokenizer.texts_to_sequences(cleaned_train_texts)\n",
        "word_seq_test = tokenizer.texts_to_sequences(cleaned_test_texts)\n",
        "word_seq_dev = tokenizer.texts_to_sequences(cleaned_dev_texts)\n",
        "word_index = tokenizer.word_index\n",
        "\n",
        "# Padding too short tweet texts with '0's\n",
        "word_seq_train = sequence.pad_sequences(word_seq_train, maxlen=maxlen)\n",
        "word_seq_test = sequence.pad_sequences(word_seq_test, maxlen=maxlen)\n",
        "word_seq_dev = sequence.pad_sequences(word_seq_dev, maxlen=maxlen)\n",
        "\n",
        "dictionary_size = len(word_index.keys())"
      ],
      "execution_count": 81,
      "outputs": []
    },
    {
      "cell_type": "markdown",
      "metadata": {
        "id": "4twZojExKFFl"
      },
      "source": [
        "# **FastText:**"
      ]
    },
    {
      "cell_type": "code",
      "metadata": {
        "id": "VSyhq3lMKI_S",
        "outputId": "5fbef855-1b16-49ae-c33c-fc97c3181684",
        "colab": {
          "base_uri": "https://localhost:8080/",
          "height": 55
        }
      },
      "source": [
        "EMBEDDINGS_DIM = 300\n",
        "\n",
        "fasttext_model = fasttext.load_model(fasttext_model_path)"
      ],
      "execution_count": 87,
      "outputs": [
        {
          "output_type": "stream",
          "text": [
            "Warning : `load_model` does not return WordVectorModel or SupervisedModel any more, but a `FastText` object which is very similar.\n"
          ],
          "name": "stderr"
        }
      ]
    },
    {
      "cell_type": "markdown",
      "metadata": {
        "id": "JZrjX_0FyjQV"
      },
      "source": [
        "# **MUSE:**"
      ]
    },
    {
      "cell_type": "code",
      "metadata": {
        "id": "Rg17SB3SzWRM"
      },
      "source": [
        "EMBEDDINGS_DIM = 300\n",
        "\n",
        "# 0-th token of embedding matrix is a padding token\n",
        "embedding_matrix = np.zeros((dictionary_size + 1, EMBEDDINGS_DIM))"
      ],
      "execution_count": 94,
      "outputs": []
    },
    {
      "cell_type": "code",
      "metadata": {
        "id": "3bEUQvWZyzdR",
        "outputId": "8d66cac7-a516-4282-87e6-0aead265158b",
        "colab": {
          "base_uri": "https://localhost:8080/",
          "height": 0
        }
      },
      "source": [
        "muse_model = KeyedVectors.load_word2vec_format(muse_supervised_path, binary=False)"
      ],
      "execution_count": 95,
      "outputs": [
        {
          "output_type": "stream",
          "text": [
            "/usr/local/lib/python3.6/dist-packages/smart_open/smart_open_lib.py:252: UserWarning: This function is deprecated, use smart_open.open instead. See the migration notes for details: https://github.com/RaRe-Technologies/smart_open/blob/master/README.rst#migrating-to-the-new-open-function\n",
            "  'See the migration notes for details: %s' % _MIGRATION_NOTES_URL\n"
          ],
          "name": "stderr"
        }
      ]
    },
    {
      "cell_type": "code",
      "metadata": {
        "id": "2cfFTC5pzIa3"
      },
      "source": [
        "vector_count = 0\n",
        "for word, i in word_index.items(): # MUSE\n",
        "  try:\n",
        "    embedding_vector = muse_model.get_vector(word)\n",
        "    if (embedding_vector is not None) and len(embedding_vector) > 0:\n",
        "        # words not found in embedding index will be all-zeros.\n",
        "        vector_count += 1\n",
        "        embedding_matrix[i] = embedding_vector\n",
        "  except:\n",
        "    continue"
      ],
      "execution_count": 96,
      "outputs": []
    },
    {
      "cell_type": "markdown",
      "metadata": {
        "id": "6mhofn2WyYcS"
      },
      "source": [
        "# **LASER:**"
      ]
    },
    {
      "cell_type": "code",
      "metadata": {
        "id": "YmCK27lxzT-e"
      },
      "source": [
        "EMBEDDINGS_DIM = 1024\n",
        "\n",
        "# 0-th token of embedding matrix is a padding token\n",
        "embedding_matrix = np.zeros((dictionary_size + 1, EMBEDDINGS_DIM))"
      ],
      "execution_count": 103,
      "outputs": []
    },
    {
      "cell_type": "code",
      "metadata": {
        "id": "xnJPNND4ynKZ"
      },
      "source": [
        "from numpy import loadtxt\n",
        "\n",
        "words = loadtxt(laser_input_words, dtype=\"str\", delimiter=\",\", unpack=False)\n",
        "dim = 1024\n",
        "laser_vectors = dict()\n",
        "embeddings = np.fromfile(laser_embeddings, dtype=np.float32, count=-1)\n",
        "embeddings.resize(embeddings.shape[0] // dim, dim)\n",
        "for word, vector in zip(words, embeddings):\n",
        "  laser_vectors[word] = vector"
      ],
      "execution_count": 104,
      "outputs": []
    },
    {
      "cell_type": "code",
      "metadata": {
        "id": "OqVeSlxKy--Z"
      },
      "source": [
        "vector_count = 0\n",
        "for word, i in word_index.items(): # LASER\n",
        "  try:\n",
        "    embedding_vector = laser_vectors.get(word)\n",
        "    if (embedding_vector is not None) and len(embedding_vector) > 0:\n",
        "        # words not found in embedding index will be all-zeros.\n",
        "        vector_count += 1\n",
        "        embedding_matrix[i] = embedding_vector\n",
        "  except:\n",
        "    continue"
      ],
      "execution_count": 105,
      "outputs": []
    },
    {
      "cell_type": "markdown",
      "metadata": {
        "id": "vb36t1FTDjt-"
      },
      "source": [
        "# **Under-Sampling:**"
      ]
    },
    {
      "cell_type": "code",
      "metadata": {
        "id": "PIiN6fpgEBkf",
        "outputId": "91f36cdf-6e66-4b0c-e6ca-2e2fad7790bb",
        "colab": {
          "base_uri": "https://localhost:8080/",
          "height": 0
        }
      },
      "source": [
        "from imblearn.under_sampling import RandomUnderSampler\n",
        "rus = RandomUnderSampler(random_state=42)\n",
        "word_seq_train_res, train_labels_res = rus.fit_resample(word_seq_train, train_labels)"
      ],
      "execution_count": 106,
      "outputs": [
        {
          "output_type": "stream",
          "text": [
            "/usr/local/lib/python3.6/dist-packages/sklearn/utils/deprecation.py:87: FutureWarning: Function safe_indexing is deprecated; safe_indexing is deprecated in version 0.22 and will be removed in version 0.24.\n",
            "  warnings.warn(msg, category=FutureWarning)\n"
          ],
          "name": "stderr"
        }
      ]
    },
    {
      "cell_type": "markdown",
      "metadata": {
        "id": "R7lBo3qeEIZt"
      },
      "source": [
        "# **Model compliation:**"
      ]
    },
    {
      "cell_type": "code",
      "metadata": {
        "id": "WMLfhLofEHh_"
      },
      "source": [
        "model = TextCNN(maxlen, dictionary_size + 1, EMBEDDINGS_DIM, embedding_weights=embedding_matrix)\n",
        "model.compile('adam', 'binary_crossentropy', metrics=['accuracy'], )\n",
        "early_stopping = EarlyStopping(monitor='val_accuracy', patience=3 , mode='max', restore_best_weights=True)"
      ],
      "execution_count": 98,
      "outputs": []
    },
    {
      "cell_type": "markdown",
      "metadata": {
        "id": "0XcVjNREERiS"
      },
      "source": [
        "# **Training:**"
      ]
    },
    {
      "cell_type": "code",
      "metadata": {
        "id": "a9hnqy-UEO3g",
        "outputId": "042617d7-7cd8-438f-a153-f3c271dff531",
        "colab": {
          "base_uri": "https://localhost:8080/",
          "height": 0
        }
      },
      "source": [
        "model.fit(word_seq_train_res, train_labels_res,\n",
        "              batch_size=BATCH_SIZE,\n",
        "              epochs=CLASSIFIER_TRAIN_EPOCHS,\n",
        "              callbacks=[early_stopping, ],\n",
        "              validation_data=(word_seq_dev, dev_labels))"
      ],
      "execution_count": 99,
      "outputs": [
        {
          "output_type": "stream",
          "text": [
            "Epoch 1/10\n",
            "12/12 [==============================] - 8s 707ms/step - loss: 0.6754 - accuracy: 0.5620 - val_loss: 0.7521 - val_accuracy: 0.3267\n",
            "Epoch 2/10\n",
            "12/12 [==============================] - 8s 699ms/step - loss: 0.5488 - accuracy: 0.8393 - val_loss: 0.5886 - val_accuracy: 0.7332\n",
            "Epoch 3/10\n",
            "12/12 [==============================] - 9s 718ms/step - loss: 0.4254 - accuracy: 0.9133 - val_loss: 0.6352 - val_accuracy: 0.6471\n",
            "Epoch 4/10\n",
            "12/12 [==============================] - 9s 722ms/step - loss: 0.2931 - accuracy: 0.9440 - val_loss: 0.5379 - val_accuracy: 0.7405\n",
            "Epoch 5/10\n",
            "12/12 [==============================] - 9s 728ms/step - loss: 0.1768 - accuracy: 0.9767 - val_loss: 0.6729 - val_accuracy: 0.6597\n",
            "Epoch 6/10\n",
            "12/12 [==============================] - 8s 704ms/step - loss: 0.0992 - accuracy: 0.9893 - val_loss: 0.5736 - val_accuracy: 0.7311\n",
            "Epoch 7/10\n",
            "12/12 [==============================] - 8s 697ms/step - loss: 0.0497 - accuracy: 0.9973 - val_loss: 0.5746 - val_accuracy: 0.7479\n",
            "Epoch 8/10\n",
            "12/12 [==============================] - 8s 700ms/step - loss: 0.0254 - accuracy: 0.9980 - val_loss: 0.7240 - val_accuracy: 0.7101\n",
            "Epoch 9/10\n",
            "12/12 [==============================] - 9s 709ms/step - loss: 0.0149 - accuracy: 0.9993 - val_loss: 0.7057 - val_accuracy: 0.7290\n",
            "Epoch 10/10\n",
            "12/12 [==============================] - 9s 726ms/step - loss: 0.0097 - accuracy: 0.9993 - val_loss: 0.7707 - val_accuracy: 0.7164\n"
          ],
          "name": "stdout"
        },
        {
          "output_type": "execute_result",
          "data": {
            "text/plain": [
              "<tensorflow.python.keras.callbacks.History at 0x7fafb9604cc0>"
            ]
          },
          "metadata": {
            "tags": []
          },
          "execution_count": 99
        }
      ]
    },
    {
      "cell_type": "markdown",
      "metadata": {
        "id": "Qr12ma1mEWTG"
      },
      "source": [
        "# **Results printing:**"
      ]
    },
    {
      "cell_type": "code",
      "metadata": {
        "id": "4m4_lcyfEX9u"
      },
      "source": [
        "predicted_test_prob = model.predict(word_seq_test)\n",
        "predicted_test_labels = []\n",
        "predicted_dev_prob = model.predict(word_seq_dev)\n",
        "predicted_dev_labels = []\n",
        "\n",
        "for subarray in predicted_test_prob:\n",
        "    label = 1 if subarray[0] >= CLASSIFICATION_THRESHOLD else 0\n",
        "    predicted_test_labels.append(label)\n",
        "\n",
        "for subarray in predicted_dev_prob:\n",
        "    label = 1 if subarray[0] >= CLASSIFICATION_THRESHOLD else 0\n",
        "    predicted_dev_labels.append(label)"
      ],
      "execution_count": 100,
      "outputs": []
    },
    {
      "cell_type": "code",
      "metadata": {
        "id": "cZTTElWQEtUa",
        "outputId": "614e159d-c7b2-4825-80c4-d7dd9c474c5f",
        "colab": {
          "base_uri": "https://localhost:8080/",
          "height": 181
        }
      },
      "source": [
        "dev_precision = precision_score(dev_labels, predicted_dev_labels, )\n",
        "dev_recall = recall_score(dev_labels, predicted_dev_labels, )\n",
        "dev_f_measure = f1_score(dev_labels, predicted_dev_labels, )\n",
        "print(f\"Dev:\\nPrecision: {dev_precision}\\n\"\n",
        "        f\"Recall: {dev_recall}\\nF-measure: {dev_f_measure}\")\n",
        "\n",
        "test_precision = precision_score(test_labels, predicted_test_labels, )\n",
        "test_recall = recall_score(test_labels, predicted_test_labels, )\n",
        "test_f_measure = f1_score(test_labels, predicted_test_labels, )\n",
        "print(f\"Test:\\nPrecision: {test_precision}\\n\"\n",
        "        f\"Recall: {test_recall}\\nF-measure: {test_f_measure}\\n\")"
      ],
      "execution_count": 101,
      "outputs": [
        {
          "output_type": "stream",
          "text": [
            "Dev:\n",
            "Precision: 0.21785714285714286\n",
            "Recall: 0.7439024390243902\n",
            "F-measure: 0.3370165745856354\n",
            "Test:\n",
            "Precision: 0.27441077441077444\n",
            "Recall: 0.8232323232323232\n",
            "F-measure: 0.4116161616161616\n",
            "\n"
          ],
          "name": "stdout"
        }
      ]
    },
    {
      "cell_type": "code",
      "metadata": {
        "id": "BCLMpAnpEwOR",
        "outputId": "8040b352-e2ca-4c85-96c5-52d89011b309",
        "colab": {
          "base_uri": "https://localhost:8080/",
          "height": 181
        }
      },
      "source": [
        "print(classification_report(test_labels, predicted_test_labels, digits=5))"
      ],
      "execution_count": 102,
      "outputs": [
        {
          "output_type": "stream",
          "text": [
            "              precision    recall  f1-score   support\n",
            "\n",
            "           0    0.96154   0.66998   0.78971      1306\n",
            "           1    0.27441   0.82323   0.41162       198\n",
            "\n",
            "    accuracy                        0.69016      1504\n",
            "   macro avg    0.61797   0.74661   0.60066      1504\n",
            "weighted avg    0.87108   0.69016   0.73994      1504\n",
            "\n"
          ],
          "name": "stdout"
        }
      ]
    },
    {
      "cell_type": "markdown",
      "metadata": {
        "id": "zPi6hLKFIEVq"
      },
      "source": [
        "# **Vector coverage:**"
      ]
    },
    {
      "cell_type": "markdown",
      "metadata": {
        "id": "dlxQ2fA9IV1D"
      },
      "source": [
        "**MUSE:**"
      ]
    },
    {
      "cell_type": "code",
      "metadata": {
        "id": "O1pIkiMIIK1r",
        "outputId": "a8d80906-ccfb-4b24-8e7f-32ef2934fbe0",
        "colab": {
          "base_uri": "https://localhost:8080/",
          "height": 35
        }
      },
      "source": [
        "not_found = 0\n",
        "for word in tokenizer.word_docs.keys():\n",
        "  try:\n",
        "    muse_model.get_vector(word)\n",
        "  except KeyError:\n",
        "    not_found += 1\n",
        "\n",
        "print(((len(tokenizer.word_docs.keys()) - not_found) / len(tokenizer.word_docs.keys())) * 100, '% coverage')"
      ],
      "execution_count": 107,
      "outputs": [
        {
          "output_type": "stream",
          "text": [
            "45.13470528700178 % coverage\n"
          ],
          "name": "stdout"
        }
      ]
    },
    {
      "cell_type": "markdown",
      "metadata": {
        "id": "dVQQDM9sIZvw"
      },
      "source": [
        "**LASER:**"
      ]
    },
    {
      "cell_type": "code",
      "metadata": {
        "id": "RBxZ32BgIVRd",
        "outputId": "4c9002db-4e73-43fb-a962-977c94c3d52c",
        "colab": {
          "base_uri": "https://localhost:8080/",
          "height": 35
        }
      },
      "source": [
        "not_found = 0\n",
        "for word in tokenizer.word_docs.keys():\n",
        "  try:\n",
        "    laser_vectors.get(word)\n",
        "  except KeyError:\n",
        "    not_found += 1\n",
        "\n",
        "print(((len(tokenizer.word_docs.keys()) - not_found) / len(tokenizer.word_docs.keys())) * 100, '% coverage')"
      ],
      "execution_count": 108,
      "outputs": [
        {
          "output_type": "stream",
          "text": [
            "100.0 % coverage\n"
          ],
          "name": "stdout"
        }
      ]
    }
  ]
}